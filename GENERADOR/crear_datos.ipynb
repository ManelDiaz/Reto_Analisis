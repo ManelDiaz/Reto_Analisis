{
 "cells": [
  {
   "cell_type": "markdown",
   "id": "dea99414",
   "metadata": {},
   "source": [
    "# Generación de Datos Sintéticos\n",
    "Este notebook genera datos sintéticos para estudiantes, asignaturas y notas, y los guarda en archivos CSV."
   ]
  },
  {
   "cell_type": "markdown",
   "id": "5471b58c",
   "metadata": {},
   "source": [
    "## Generación del archivo `estudiantes.csv`\n",
    "Este archivo contiene información sobre los estudiantes, incluyendo su nombre, apellido, edad, sexo, ciudad y fecha de registro."
   ]
  },
  {
   "cell_type": "code",
   "execution_count": null,
   "id": "e392dba9",
   "metadata": {},
   "outputs": [
    {
     "ename": "",
     "evalue": "",
     "output_type": "error",
     "traceback": [
      "\u001b[1;31mRunning cells with 'Python 3.12.3' requires the ipykernel package.\n",
      "\u001b[1;31m<a href='command:jupyter.createPythonEnvAndSelectController'>Create a Python Environment</a> with the required packages.\n",
      "\u001b[1;31mOr install 'ipykernel' using the command: '/usr/bin/python3 -m pip install ipykernel -U --user --force-reinstall'"
     ]
    }
   ],
   "source": [
    "import pandas as pd\n",
    "import numpy as np\n",
    "from faker import Faker\n",
    "import random\n",
    "\n",
    "fake = Faker('es_ES')\n",
    "np.random.seed(42)\n",
    "random.seed(42)\n",
    "\n",
    "num_estudiantes = 1000\n",
    "\n",
    "estudiantes = []\n",
    "for i in range(1, num_estudiantes + 1):\n",
    "    estudiantes.append({\n",
    "        'id_estudiante': i,\n",
    "        'nombre': fake.first_name(),\n",
    "        'apellido': fake.last_name(),\n",
    "        'edad': random.randint(18, 40),\n",
    "        'sexo': random.choice(['M', 'F']),\n",
    "        'ciudad': fake.city(),\n",
    "        'fecha_registro': fake.date_between(start_date='-3y', end_date='today')\n",
    "    })\n",
    "\n",
    "df_estudiantes = pd.DataFrame(estudiantes)\n",
    "df_estudiantes.to_csv('estudiantes.csv', index=False)"
   ]
  },
  {
   "cell_type": "markdown",
   "id": "1ec20f56",
   "metadata": {},
   "source": [
    "## Generación del archivo `asignaturas.csv`\n",
    "Este archivo contiene información sobre las asignaturas, incluyendo su nombre, departamento y número de créditos."
   ]
  },
  {
   "cell_type": "code",
   "execution_count": 6,
   "id": "e11bc961",
   "metadata": {},
   "outputs": [],
   "source": [
    "asignaturas = [\n",
    "    {'id_asignatura': 1, 'nombre_asignatura': 'Matemáticas', 'departamento': 'Ciencias', 'creditos': 6},\n",
    "    {'id_asignatura': 2, 'nombre_asignatura': 'Física', 'departamento': 'Ciencias', 'creditos': 5},\n",
    "    {'id_asignatura': 3, 'nombre_asignatura': 'Historia', 'departamento': 'Humanidades', 'creditos': 4},\n",
    "    {'id_asignatura': 4, 'nombre_asignatura': 'Lengua Española', 'departamento': 'Humanidades', 'creditos': 5},\n",
    "    {'id_asignatura': 5, 'nombre_asignatura': 'Informática', 'departamento': 'Ingeniería', 'creditos': 6},\n",
    "    {'id_asignatura': 6, 'nombre_asignatura': 'Biología', 'departamento': 'Ciencias', 'creditos': 5}\n",
    "]\n",
    "\n",
    "df_asignaturas = pd.DataFrame(asignaturas)\n",
    "df_asignaturas.to_csv('asignaturas.csv', index=False)"
   ]
  },
  {
   "cell_type": "markdown",
   "id": "7e70b41d",
   "metadata": {},
   "source": [
    "## Generación del archivo `notas.csv`\n",
    "Este archivo contiene información sobre las notas de los estudiantes en diferentes asignaturas, incluyendo la convocatoria y la fecha del examen."
   ]
  },
  {
   "cell_type": "code",
   "execution_count": null,
   "id": "50128bc5",
   "metadata": {},
   "outputs": [],
   "source": [
    "notas = []\n",
    "convocatorias = ['Ordinaria', 'Extraordinaria']\n",
    "\n",
    "for estudiante in df_estudiantes['id_estudiante']:\n",
    "    asignaturas_sample = random.sample(df_asignaturas['id_asignatura'].tolist(), k=3)\n",
    "    for asignatura in asignaturas_sample:\n",
    "        notas.append({\n",
    "            'id_estudiante': estudiante,\n",
    "            'id_asignatura': asignatura,\n",
    "            'nota': round(np.random.normal(loc=6.5, scale=1.5), 2),\n",
    "            'convocatoria': random.choice(convocatorias),\n",
    "            'fecha_examen': fake.date_between(start_date='-2y', end_date='today')\n",
    "        })\n",
    "\n",
    "df_notas = pd.DataFrame(notas)\n",
    "df_notas['nota'] = df_notas['nota'].clip(0, 10)\n",
    "df_notas.to_csv('notas.csv', index=False)"
   ]
  }
 ],
 "metadata": {
  "kernelspec": {
   "display_name": "Python 3",
   "language": "python",
   "name": "python3"
  },
  "language_info": {
   "codemirror_mode": {
    "name": "ipython",
    "version": 3
   },
   "file_extension": ".py",
   "mimetype": "text/x-python",
   "name": "python",
   "nbconvert_exporter": "python",
   "pygments_lexer": "ipython3",
   "version": "3.12.3"
  }
 },
 "nbformat": 4,
 "nbformat_minor": 5
}
