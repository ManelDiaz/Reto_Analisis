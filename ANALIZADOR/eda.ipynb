{
 "cells": [
  {
   "cell_type": "markdown",
   "id": "48512940",
   "metadata": {},
   "source": [
    "#1:\n",
    "\n",
    "Mostrar las primeras 5 filas de los dataframes\n",
    "\n",
    "________________________________________________________________________________"
   ]
  },
  {
   "cell_type": "code",
   "execution_count": 57,
   "id": "fd443bf7",
   "metadata": {},
   "outputs": [
    {
     "data": {
      "text/html": [
       "<div>\n",
       "<style scoped>\n",
       "    .dataframe tbody tr th:only-of-type {\n",
       "        vertical-align: middle;\n",
       "    }\n",
       "\n",
       "    .dataframe tbody tr th {\n",
       "        vertical-align: top;\n",
       "    }\n",
       "\n",
       "    .dataframe thead th {\n",
       "        text-align: right;\n",
       "    }\n",
       "</style>\n",
       "<table border=\"1\" class=\"dataframe\">\n",
       "  <thead>\n",
       "    <tr style=\"text-align: right;\">\n",
       "      <th></th>\n",
       "      <th>id_asignatura</th>\n",
       "      <th>nombre_asignatura</th>\n",
       "      <th>departamento</th>\n",
       "      <th>creditos</th>\n",
       "    </tr>\n",
       "  </thead>\n",
       "  <tbody>\n",
       "    <tr>\n",
       "      <th>0</th>\n",
       "      <td>1</td>\n",
       "      <td>Matemáticas</td>\n",
       "      <td>Ciencias</td>\n",
       "      <td>6</td>\n",
       "    </tr>\n",
       "    <tr>\n",
       "      <th>1</th>\n",
       "      <td>2</td>\n",
       "      <td>Física</td>\n",
       "      <td>Ciencias</td>\n",
       "      <td>5</td>\n",
       "    </tr>\n",
       "    <tr>\n",
       "      <th>2</th>\n",
       "      <td>3</td>\n",
       "      <td>Historia</td>\n",
       "      <td>Humanidades</td>\n",
       "      <td>4</td>\n",
       "    </tr>\n",
       "    <tr>\n",
       "      <th>3</th>\n",
       "      <td>4</td>\n",
       "      <td>Lengua Española</td>\n",
       "      <td>Humanidades</td>\n",
       "      <td>5</td>\n",
       "    </tr>\n",
       "    <tr>\n",
       "      <th>4</th>\n",
       "      <td>5</td>\n",
       "      <td>Informática</td>\n",
       "      <td>Ingeniería</td>\n",
       "      <td>6</td>\n",
       "    </tr>\n",
       "  </tbody>\n",
       "</table>\n",
       "</div>"
      ],
      "text/plain": [
       "   id_asignatura nombre_asignatura departamento  creditos\n",
       "0              1       Matemáticas     Ciencias         6\n",
       "1              2            Física     Ciencias         5\n",
       "2              3          Historia  Humanidades         4\n",
       "3              4   Lengua Española  Humanidades         5\n",
       "4              5       Informática   Ingeniería         6"
      ]
     },
     "execution_count": 57,
     "metadata": {},
     "output_type": "execute_result"
    }
   ],
   "source": [
    "import pandas as pd \n",
    "\n",
    "df_asig = pd.read_csv('../GENERADOR/asignaturas.csv')\n",
    "df_est = pd.read_csv('../GENERADOR/estudiantes.csv')\n",
    "df_not = pd.read_csv('../GENERADOR/notas.csv')\n",
    "\n",
    "df_asig.head(5)"
   ]
  },
  {
   "cell_type": "code",
   "execution_count": 58,
   "id": "5f2a4602",
   "metadata": {},
   "outputs": [
    {
     "data": {
      "text/html": [
       "<div>\n",
       "<style scoped>\n",
       "    .dataframe tbody tr th:only-of-type {\n",
       "        vertical-align: middle;\n",
       "    }\n",
       "\n",
       "    .dataframe tbody tr th {\n",
       "        vertical-align: top;\n",
       "    }\n",
       "\n",
       "    .dataframe thead th {\n",
       "        text-align: right;\n",
       "    }\n",
       "</style>\n",
       "<table border=\"1\" class=\"dataframe\">\n",
       "  <thead>\n",
       "    <tr style=\"text-align: right;\">\n",
       "      <th></th>\n",
       "      <th>id_estudiante</th>\n",
       "      <th>nombre</th>\n",
       "      <th>apellido</th>\n",
       "      <th>edad</th>\n",
       "      <th>sexo</th>\n",
       "      <th>ciudad</th>\n",
       "      <th>fecha_registro</th>\n",
       "    </tr>\n",
       "  </thead>\n",
       "  <tbody>\n",
       "    <tr>\n",
       "      <th>0</th>\n",
       "      <td>1</td>\n",
       "      <td>Lucía</td>\n",
       "      <td>Torrents</td>\n",
       "      <td>28</td>\n",
       "      <td>M</td>\n",
       "      <td>Granada</td>\n",
       "      <td>2023-11-10</td>\n",
       "    </tr>\n",
       "    <tr>\n",
       "      <th>1</th>\n",
       "      <td>2</td>\n",
       "      <td>Cayetana</td>\n",
       "      <td>Belda</td>\n",
       "      <td>18</td>\n",
       "      <td>F</td>\n",
       "      <td>Soria</td>\n",
       "      <td>2022-09-19</td>\n",
       "    </tr>\n",
       "    <tr>\n",
       "      <th>2</th>\n",
       "      <td>3</td>\n",
       "      <td>Noé</td>\n",
       "      <td>Ayala</td>\n",
       "      <td>21</td>\n",
       "      <td>M</td>\n",
       "      <td>Cádiz</td>\n",
       "      <td>2025-01-02</td>\n",
       "    </tr>\n",
       "    <tr>\n",
       "      <th>3</th>\n",
       "      <td>4</td>\n",
       "      <td>Hernán</td>\n",
       "      <td>Zamorano</td>\n",
       "      <td>20</td>\n",
       "      <td>M</td>\n",
       "      <td>Pontevedra</td>\n",
       "      <td>2022-06-15</td>\n",
       "    </tr>\n",
       "    <tr>\n",
       "      <th>4</th>\n",
       "      <td>5</td>\n",
       "      <td>Conrado</td>\n",
       "      <td>Busquets</td>\n",
       "      <td>28</td>\n",
       "      <td>M</td>\n",
       "      <td>Las Palmas</td>\n",
       "      <td>2024-07-25</td>\n",
       "    </tr>\n",
       "  </tbody>\n",
       "</table>\n",
       "</div>"
      ],
      "text/plain": [
       "   id_estudiante    nombre  apellido  edad sexo      ciudad fecha_registro\n",
       "0              1     Lucía  Torrents    28    M     Granada     2023-11-10\n",
       "1              2  Cayetana     Belda    18    F       Soria     2022-09-19\n",
       "2              3       Noé     Ayala    21    M       Cádiz     2025-01-02\n",
       "3              4    Hernán  Zamorano    20    M  Pontevedra     2022-06-15\n",
       "4              5   Conrado  Busquets    28    M  Las Palmas     2024-07-25"
      ]
     },
     "execution_count": 58,
     "metadata": {},
     "output_type": "execute_result"
    }
   ],
   "source": [
    "df_est.head(5)"
   ]
  },
  {
   "cell_type": "code",
   "execution_count": 59,
   "id": "bf87161f",
   "metadata": {},
   "outputs": [
    {
     "data": {
      "text/html": [
       "<div>\n",
       "<style scoped>\n",
       "    .dataframe tbody tr th:only-of-type {\n",
       "        vertical-align: middle;\n",
       "    }\n",
       "\n",
       "    .dataframe tbody tr th {\n",
       "        vertical-align: top;\n",
       "    }\n",
       "\n",
       "    .dataframe thead th {\n",
       "        text-align: right;\n",
       "    }\n",
       "</style>\n",
       "<table border=\"1\" class=\"dataframe\">\n",
       "  <thead>\n",
       "    <tr style=\"text-align: right;\">\n",
       "      <th></th>\n",
       "      <th>id_estudiante</th>\n",
       "      <th>id_asignatura</th>\n",
       "      <th>nota</th>\n",
       "      <th>convocatoria</th>\n",
       "      <th>fecha_examen</th>\n",
       "    </tr>\n",
       "  </thead>\n",
       "  <tbody>\n",
       "    <tr>\n",
       "      <th>0</th>\n",
       "      <td>1</td>\n",
       "      <td>1</td>\n",
       "      <td>7.25</td>\n",
       "      <td>Ordinaria</td>\n",
       "      <td>2024-04-14</td>\n",
       "    </tr>\n",
       "    <tr>\n",
       "      <th>1</th>\n",
       "      <td>1</td>\n",
       "      <td>2</td>\n",
       "      <td>6.29</td>\n",
       "      <td>Extraordinaria</td>\n",
       "      <td>2024-10-10</td>\n",
       "    </tr>\n",
       "    <tr>\n",
       "      <th>2</th>\n",
       "      <td>1</td>\n",
       "      <td>5</td>\n",
       "      <td>7.47</td>\n",
       "      <td>Ordinaria</td>\n",
       "      <td>2023-11-17</td>\n",
       "    </tr>\n",
       "    <tr>\n",
       "      <th>3</th>\n",
       "      <td>2</td>\n",
       "      <td>5</td>\n",
       "      <td>8.78</td>\n",
       "      <td>Ordinaria</td>\n",
       "      <td>2024-03-14</td>\n",
       "    </tr>\n",
       "    <tr>\n",
       "      <th>4</th>\n",
       "      <td>2</td>\n",
       "      <td>6</td>\n",
       "      <td>6.15</td>\n",
       "      <td>Ordinaria</td>\n",
       "      <td>2024-07-05</td>\n",
       "    </tr>\n",
       "  </tbody>\n",
       "</table>\n",
       "</div>"
      ],
      "text/plain": [
       "   id_estudiante  id_asignatura  nota    convocatoria fecha_examen\n",
       "0              1              1  7.25       Ordinaria   2024-04-14\n",
       "1              1              2  6.29  Extraordinaria   2024-10-10\n",
       "2              1              5  7.47       Ordinaria   2023-11-17\n",
       "3              2              5  8.78       Ordinaria   2024-03-14\n",
       "4              2              6  6.15       Ordinaria   2024-07-05"
      ]
     },
     "execution_count": 59,
     "metadata": {},
     "output_type": "execute_result"
    }
   ],
   "source": [
    "df_not.head(5)"
   ]
  },
  {
   "cell_type": "markdown",
   "id": "8646bbdb",
   "metadata": {},
   "source": [
    "#2:\n",
    "\n",
    "Mostrar información general de los dataframes\n",
    "\n",
    "________________________________________________________________________________"
   ]
  },
  {
   "cell_type": "code",
   "execution_count": 60,
   "id": "b84dff39",
   "metadata": {},
   "outputs": [
    {
     "name": "stdout",
     "output_type": "stream",
     "text": [
      "<class 'pandas.core.frame.DataFrame'>\n",
      "RangeIndex: 6 entries, 0 to 5\n",
      "Data columns (total 4 columns):\n",
      " #   Column             Non-Null Count  Dtype \n",
      "---  ------             --------------  ----- \n",
      " 0   id_asignatura      6 non-null      int64 \n",
      " 1   nombre_asignatura  6 non-null      object\n",
      " 2   departamento       6 non-null      object\n",
      " 3   creditos           6 non-null      int64 \n",
      "dtypes: int64(2), object(2)\n",
      "memory usage: 324.0+ bytes\n"
     ]
    }
   ],
   "source": [
    "df_asig.info()"
   ]
  },
  {
   "cell_type": "code",
   "execution_count": 61,
   "id": "c9194c27",
   "metadata": {},
   "outputs": [
    {
     "name": "stdout",
     "output_type": "stream",
     "text": [
      "<class 'pandas.core.frame.DataFrame'>\n",
      "RangeIndex: 100 entries, 0 to 99\n",
      "Data columns (total 7 columns):\n",
      " #   Column          Non-Null Count  Dtype \n",
      "---  ------          --------------  ----- \n",
      " 0   id_estudiante   100 non-null    int64 \n",
      " 1   nombre          100 non-null    object\n",
      " 2   apellido        100 non-null    object\n",
      " 3   edad            100 non-null    int64 \n",
      " 4   sexo            100 non-null    object\n",
      " 5   ciudad          100 non-null    object\n",
      " 6   fecha_registro  100 non-null    object\n",
      "dtypes: int64(2), object(5)\n",
      "memory usage: 5.6+ KB\n"
     ]
    }
   ],
   "source": [
    "df_est.info()"
   ]
  },
  {
   "cell_type": "code",
   "execution_count": 62,
   "id": "8e3c6124",
   "metadata": {},
   "outputs": [
    {
     "name": "stdout",
     "output_type": "stream",
     "text": [
      "<class 'pandas.core.frame.DataFrame'>\n",
      "RangeIndex: 300 entries, 0 to 299\n",
      "Data columns (total 5 columns):\n",
      " #   Column         Non-Null Count  Dtype  \n",
      "---  ------         --------------  -----  \n",
      " 0   id_estudiante  300 non-null    int64  \n",
      " 1   id_asignatura  300 non-null    int64  \n",
      " 2   nota           300 non-null    float64\n",
      " 3   convocatoria   300 non-null    object \n",
      " 4   fecha_examen   300 non-null    object \n",
      "dtypes: float64(1), int64(2), object(2)\n",
      "memory usage: 11.8+ KB\n"
     ]
    }
   ],
   "source": [
    "df_not.info()"
   ]
  },
  {
   "cell_type": "markdown",
   "id": "3bdefe06",
   "metadata": {},
   "source": [
    "#3:\n",
    "\n",
    "Comprobar valores faltantes\n",
    "\n",
    "________________________________________________________________________________"
   ]
  },
  {
   "cell_type": "code",
   "execution_count": 63,
   "id": "ca8a38d8",
   "metadata": {},
   "outputs": [
    {
     "name": "stdout",
     "output_type": "stream",
     "text": [
      "id_asignatura        0\n",
      "nombre_asignatura    0\n",
      "departamento         0\n",
      "creditos             0\n",
      "dtype: int64\n"
     ]
    }
   ],
   "source": [
    "print(df_asig.isnull().sum())"
   ]
  },
  {
   "cell_type": "code",
   "execution_count": 64,
   "id": "dd0cc95d",
   "metadata": {},
   "outputs": [
    {
     "name": "stdout",
     "output_type": "stream",
     "text": [
      "id_estudiante     0\n",
      "nombre            0\n",
      "apellido          0\n",
      "edad              0\n",
      "sexo              0\n",
      "ciudad            0\n",
      "fecha_registro    0\n",
      "dtype: int64\n"
     ]
    }
   ],
   "source": [
    "print(df_est.isnull().sum())"
   ]
  },
  {
   "cell_type": "code",
   "execution_count": 65,
   "id": "f9619291",
   "metadata": {},
   "outputs": [
    {
     "name": "stdout",
     "output_type": "stream",
     "text": [
      "id_estudiante    0\n",
      "id_asignatura    0\n",
      "nota             0\n",
      "convocatoria     0\n",
      "fecha_examen     0\n",
      "dtype: int64\n"
     ]
    }
   ],
   "source": [
    "print(df_not.isnull().sum())"
   ]
  },
  {
   "cell_type": "markdown",
   "id": "df44cc25",
   "metadata": {},
   "source": [
    "#4:\n",
    "\n",
    "Calcular estadisticas numéricas\n",
    "\n",
    "________________________________________________________________________________"
   ]
  },
  {
   "cell_type": "code",
   "execution_count": 66,
   "id": "a7fc3f50",
   "metadata": {},
   "outputs": [
    {
     "name": "stdout",
     "output_type": "stream",
     "text": [
      "       id_asignatura  creditos\n",
      "count       6.000000  6.000000\n",
      "mean        3.500000  5.166667\n",
      "std         1.870829  0.752773\n",
      "min         1.000000  4.000000\n",
      "25%         2.250000  5.000000\n",
      "50%         3.500000  5.000000\n",
      "75%         4.750000  5.750000\n",
      "max         6.000000  6.000000\n"
     ]
    }
   ],
   "source": [
    "print(df_asig.describe())"
   ]
  },
  {
   "cell_type": "code",
   "execution_count": 67,
   "id": "7651cac6",
   "metadata": {},
   "outputs": [
    {
     "name": "stdout",
     "output_type": "stream",
     "text": [
      "       id_estudiante        edad\n",
      "count     100.000000  100.000000\n",
      "mean       50.500000   24.710000\n",
      "std        29.011492    3.901036\n",
      "min         1.000000   18.000000\n",
      "25%        25.750000   21.000000\n",
      "50%        50.500000   26.000000\n",
      "75%        75.250000   28.000000\n",
      "max       100.000000   30.000000\n"
     ]
    }
   ],
   "source": [
    "print(df_est.describe())"
   ]
  },
  {
   "cell_type": "code",
   "execution_count": 68,
   "id": "4d6d44e8",
   "metadata": {},
   "outputs": [
    {
     "name": "stdout",
     "output_type": "stream",
     "text": [
      "       id_estudiante  id_asignatura        nota\n",
      "count     300.000000     300.000000  300.000000\n",
      "mean       50.500000       3.426667    6.481500\n",
      "std        28.914301       1.671507    1.445426\n",
      "min         1.000000       1.000000    1.640000\n",
      "25%        25.750000       2.000000    5.475000\n",
      "50%        50.500000       3.000000    6.590000\n",
      "75%        75.250000       5.000000    7.440000\n",
      "max       100.000000       6.000000   10.000000\n"
     ]
    }
   ],
   "source": [
    "print(df_not.describe())"
   ]
  },
  {
   "cell_type": "markdown",
   "id": "6e8b54f5",
   "metadata": {},
   "source": [
    "#5:\n",
    "\n",
    "Comprobar duplicados\n",
    "\n",
    "________________________________________________________________________________"
   ]
  },
  {
   "cell_type": "code",
   "execution_count": 69,
   "id": "a908d21f",
   "metadata": {},
   "outputs": [
    {
     "name": "stdout",
     "output_type": "stream",
     "text": [
      "0\n"
     ]
    }
   ],
   "source": [
    "print(df_asig.duplicated().sum())"
   ]
  },
  {
   "cell_type": "code",
   "execution_count": 70,
   "id": "c3370af5",
   "metadata": {},
   "outputs": [
    {
     "name": "stdout",
     "output_type": "stream",
     "text": [
      "0\n"
     ]
    }
   ],
   "source": [
    "print(df_est.duplicated().sum())"
   ]
  },
  {
   "cell_type": "code",
   "execution_count": 71,
   "id": "287b90eb",
   "metadata": {},
   "outputs": [
    {
     "name": "stdout",
     "output_type": "stream",
     "text": [
      "0\n"
     ]
    }
   ],
   "source": [
    "print(df_not.duplicated().sum())"
   ]
  }
 ],
 "metadata": {
  "kernelspec": {
   "display_name": "venv",
   "language": "python",
   "name": "python3"
  },
  "language_info": {
   "codemirror_mode": {
    "name": "ipython",
    "version": 3
   },
   "file_extension": ".py",
   "mimetype": "text/x-python",
   "name": "python",
   "nbconvert_exporter": "python",
   "pygments_lexer": "ipython3",
   "version": "3.12.3"
  }
 },
 "nbformat": 4,
 "nbformat_minor": 5
}
