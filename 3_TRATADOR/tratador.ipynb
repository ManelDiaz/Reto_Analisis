{
 "cells": [
  {
   "cell_type": "code",
   "execution_count": 59,
   "id": "d45478e6",
   "metadata": {},
   "outputs": [],
   "source": [
    "import pandas as pd \n",
    "\n",
    "df_asig = pd.read_csv('../1_GENERADOR/asignaturas.csv')\n",
    "df_est = pd.read_csv('../1_GENERADOR/estudiantes.csv')\n",
    "df_not = pd.read_csv('../1_GENERADOR/notas.csv')"
   ]
  },
  {
   "cell_type": "markdown",
   "id": "7bf318b7",
   "metadata": {},
   "source": [
    "1\n",
    "\n",
    "Vamos a eliminar todos las filas que tengan nulos en cada csv."
   ]
  },
  {
   "cell_type": "code",
   "execution_count": 60,
   "id": "a96ad1ba",
   "metadata": {},
   "outputs": [],
   "source": [
    "for fila in df_asig.index:\n",
    "    if df_asig.loc[fila, \"nombre_asignatura\"] == \"null\":\n",
    "        df_asig.drop(fila, inplace = True)"
   ]
  },
  {
   "cell_type": "code",
   "execution_count": 61,
   "id": "8f31e340",
   "metadata": {},
   "outputs": [],
   "source": [
    "for fila in df_asig.index:\n",
    "    if df_asig.loc[fila, \"departamento\"] == \"null\":\n",
    "        df_asig.drop(fila, inplace = True)"
   ]
  },
  {
   "cell_type": "code",
   "execution_count": 62,
   "id": "97e34fd5",
   "metadata": {},
   "outputs": [],
   "source": [
    "for fila in df_est.index:\n",
    "    if df_est.loc[fila, \"nombre\"] == \"null\":\n",
    "        df_est.drop(fila, inplace = True)"
   ]
  },
  {
   "cell_type": "code",
   "execution_count": 63,
   "id": "06b91abb",
   "metadata": {},
   "outputs": [],
   "source": [
    "for fila in df_est.index:\n",
    "    if df_est.loc[fila, \"apellido\"] == \"null\":\n",
    "        df_est.drop(fila, inplace = True)"
   ]
  },
  {
   "cell_type": "code",
   "execution_count": 64,
   "id": "aa831dce",
   "metadata": {},
   "outputs": [],
   "source": [
    "for fila in df_est.index:\n",
    "    if df_est.loc[fila, \"edad\"] == \"null\":\n",
    "        df_est.drop(fila, inplace = True)"
   ]
  },
  {
   "cell_type": "code",
   "execution_count": 65,
   "id": "251d5c87",
   "metadata": {},
   "outputs": [],
   "source": [
    "for fila in df_est.index:\n",
    "    if df_est.loc[fila, \"sexo\"] == \"null\":\n",
    "        df_est.drop(fila, inplace = True)"
   ]
  },
  {
   "cell_type": "code",
   "execution_count": 66,
   "id": "16f4df3f",
   "metadata": {},
   "outputs": [],
   "source": [
    "for fila in df_est.index:\n",
    "    if df_est.loc[fila, \"ciudad\"] == \"null\":\n",
    "        df_est.drop(fila, inplace = True)"
   ]
  },
  {
   "cell_type": "code",
   "execution_count": 67,
   "id": "e51d84d2",
   "metadata": {},
   "outputs": [],
   "source": [
    "for fila in df_est.index:\n",
    "    if df_est.loc[fila, \"fecha_registro\"] == \"null\":\n",
    "        df_est.drop(fila, inplace = True)"
   ]
  },
  {
   "cell_type": "code",
   "execution_count": 68,
   "id": "a201bd4f",
   "metadata": {},
   "outputs": [],
   "source": [
    "for fila in df_not.index:\n",
    "    if df_not.loc[fila, \"id_estudiante\"] == \"null\":\n",
    "        df_est.drop(fila, inplace = True)"
   ]
  },
  {
   "cell_type": "code",
   "execution_count": 69,
   "id": "044ed501",
   "metadata": {},
   "outputs": [],
   "source": [
    "for fila in df_not.index:\n",
    "    if df_not.loc[fila, \"id_asignatura\"] == \"null\":\n",
    "        df_est.drop(fila, inplace = True)"
   ]
  },
  {
   "cell_type": "code",
   "execution_count": 70,
   "id": "1c17d775",
   "metadata": {},
   "outputs": [],
   "source": [
    "for fila in df_not.index:\n",
    "    if df_not.loc[fila, \"nota\"] == \"null\":\n",
    "        df_est.drop(fila, inplace = True)"
   ]
  },
  {
   "cell_type": "code",
   "execution_count": 71,
   "id": "c017d36d",
   "metadata": {},
   "outputs": [],
   "source": [
    "for fila in df_not.index:\n",
    "    if df_not.loc[fila, \"convocatoria\"] == \"null\":\n",
    "        df_est.drop(fila, inplace = True)"
   ]
  },
  {
   "cell_type": "code",
   "execution_count": 72,
   "id": "8acda498",
   "metadata": {},
   "outputs": [],
   "source": [
    "for fila in df_not.index:\n",
    "    if df_not.loc[fila, \"fecha_examen\"] == \"null\":\n",
    "        df_est.drop(fila, inplace = True)"
   ]
  },
  {
   "cell_type": "code",
   "execution_count": 73,
   "id": "2ef9afd4",
   "metadata": {},
   "outputs": [
    {
     "name": "stdout",
     "output_type": "stream",
     "text": [
      "Columna: id_asignatura.\n",
      "id_asignatura\n",
      "1     1\n",
      "2     1\n",
      "3     1\n",
      "4     1\n",
      "5     1\n",
      "6     1\n",
      "7     1\n",
      "8     1\n",
      "9     1\n",
      "10    1\n",
      "Name: count, dtype: int64\n",
      " \n",
      "Columna: nombre_asignatura.\n",
      "nombre_asignatura\n",
      "Matemáticas        1\n",
      "Física             1\n",
      "Historia           1\n",
      "Lengua Española    1\n",
      "Informática        1\n",
      "Biología           1\n",
      "Química            1\n",
      "Economía           1\n",
      "Filosofía          1\n",
      "Name: count, dtype: int64\n",
      " \n",
      "Columna: departamento.\n",
      "departamento\n",
      "Ciencias             4\n",
      "Humanidades          3\n",
      "Ciencias Sociales    1\n",
      "Idiomas              1\n",
      "Name: count, dtype: int64\n",
      " \n",
      "Columna: creditos.\n",
      "creditos\n",
      " 5      4\n",
      " 4      3\n",
      " 6      1\n",
      "-1      1\n",
      " 100    1\n",
      "Name: count, dtype: int64\n",
      " \n"
     ]
    }
   ],
   "source": [
    "for column in df_asig.columns:\n",
    "    valores_unicos = df_asig[column].unique()\n",
    "    if df_asig[column].dtype == 'object' or len(valores_unicos) <= 10:\n",
    "        print(\"Columna: {}.\".format(column))\n",
    "        print(df_asig[column].value_counts())\n",
    "    else:\n",
    "        print(\"Columna: {}.\".format(column))\n",
    "        print(\"Tiene un rango de {} a {}\".format(df_asig[column].min(), df_asig[column].max()))\n",
    "    print(\" \")"
   ]
  }
 ],
 "metadata": {
  "kernelspec": {
   "display_name": "base",
   "language": "python",
   "name": "python3"
  },
  "language_info": {
   "codemirror_mode": {
    "name": "ipython",
    "version": 3
   },
   "file_extension": ".py",
   "mimetype": "text/x-python",
   "name": "python",
   "nbconvert_exporter": "python",
   "pygments_lexer": "ipython3",
   "version": "3.12.3"
  }
 },
 "nbformat": 4,
 "nbformat_minor": 5
}
