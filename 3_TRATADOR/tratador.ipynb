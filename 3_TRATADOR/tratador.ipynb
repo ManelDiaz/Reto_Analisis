{
 "cells": [
  {
   "cell_type": "code",
   "execution_count": 58,
   "id": "d45478e6",
   "metadata": {},
   "outputs": [],
   "source": [
    "import pandas as pd \n",
    "\n",
    "df_asig = pd.read_csv('../1_GENERADOR/asignaturas.csv')\n",
    "df_est = pd.read_csv('../1_GENERADOR/estudiantes.csv')\n",
    "df_not = pd.read_csv('../1_GENERADOR/notas.csv')"
   ]
  },
  {
   "cell_type": "markdown",
   "id": "7bf318b7",
   "metadata": {},
   "source": [
    "1\n",
    "\n",
    "Vamos a eliminar todos las filas que tengan nulos en cada csv."
   ]
  },
  {
   "cell_type": "code",
   "execution_count": 59,
   "id": "77e79242",
   "metadata": {},
   "outputs": [],
   "source": [
    "import pandas as pd\n",
    "\n",
    "df_asig = pd.read_csv('../1_GENERADOR/asignaturas.csv')\n",
    "# Elimina filas con el string 'null'\n",
    "df_asig = df_asig[~df_asig.apply(lambda row: row.astype(str).str.contains(\"null\"), axis=1)]\n",
    "# Elimina filas con valores NaN\n",
    "df_asig = df_asig.dropna()\n",
    "# Elimina filas con celdas vacías\n",
    "df_asig = df_asig[~(df_asig == '').any(axis=1)]\n"
   ]
  },
  {
   "cell_type": "code",
   "execution_count": 60,
   "id": "86a52441",
   "metadata": {},
   "outputs": [],
   "source": [
    "import pandas as pd\n",
    "\n",
    "df_est = pd.read_csv('../1_GENERADOR/estudiantes.csv')\n",
    "# Elimina filas con el string 'null'\n",
    "df_est = df_est[~df_est.apply(lambda row: row.astype(str).str.contains(\"null\"), axis=1)]\n",
    "# Elimina filas con valores NaN\n",
    "df_est = df_est.dropna()\n",
    "# Elimina filas con celdas vacías\n",
    "df_est = df_est[~(df_est == '').any(axis=1)]\n"
   ]
  },
  {
   "cell_type": "code",
   "execution_count": 61,
   "id": "0cc18467",
   "metadata": {},
   "outputs": [],
   "source": [
    "import pandas as pd\n",
    "\n",
    "df_not = pd.read_csv('../1_GENERADOR/notas.csv')\n",
    "# Elimina filas con el string 'null'\n",
    "df_not = df_not[~df_not.apply(lambda row: row.astype(str).str.contains(\"null\"), axis=1)]\n",
    "# Elimina filas con valores NaN\n",
    "df_not = df_not.dropna()\n",
    "# Elimina filas con celdas vacías\n",
    "df_not = df_not[~(df_not == '').any(axis=1)]\n"
   ]
  },
  {
   "cell_type": "code",
   "execution_count": 62,
   "id": "f47b7eb9",
   "metadata": {},
   "outputs": [],
   "source": [
    "# Elimina filas con creditos fuera de 3-6\n",
    "df_asig = df_asig[df_asig['creditos'].astype(str).str.isnumeric()]\n",
    "df_asig = df_asig[(df_asig['creditos'].astype(int) >= 3) & (df_asig['creditos'].astype(int) <= 6)]\n",
    "df_asig.to_csv('../1_GENERADOR/asignaturas.csv', index=False)"
   ]
  },
  {
   "cell_type": "code",
   "execution_count": 63,
   "id": "5b38e859",
   "metadata": {},
   "outputs": [],
   "source": [
    "# Elimina filas con edad fuera de 18-40\n",
    "df_est = df_est[df_est['edad'].astype(str).str.isnumeric()]\n",
    "df_est = df_est[(df_est['edad'].astype(int) >= 18) & (df_est['edad'].astype(int) <= 40)]\n",
    "# Elimina filas con sexo distinto de M o F\n",
    "df_est = df_est[df_est['sexo'].isin(['M', 'F'])]\n",
    "df_est.to_csv('../1_GENERADOR/estudiantes.csv', index=False)"
   ]
  },
  {
   "cell_type": "code",
   "execution_count": 64,
   "id": "cf7742fb",
   "metadata": {},
   "outputs": [],
   "source": [
    "def limpiar_notas_fuera_rango(df, columna='nota', minimo=0, maximo=10):\n",
    "    \"\"\"\n",
    "    Elimina filas del DataFrame donde la columna 'nota' esté fuera del rango [minimo, maximo].\n",
    "    \"\"\"\n",
    "    return df[(df[columna].apply(lambda x: isinstance(x, (int, float))) & \n",
    "               (df[columna] >= minimo) & (df[columna] <= maximo))]\n",
    "\n",
    "# Ejemplo de uso:\n",
    "df_not = limpiar_notas_fuera_rango(df_not)\n",
    "df_not.to_csv('../1_GENERADOR/notas.csv', index=False)"
   ]
  }
 ],
 "metadata": {
  "kernelspec": {
   "display_name": "venv",
   "language": "python",
   "name": "python3"
  },
  "language_info": {
   "codemirror_mode": {
    "name": "ipython",
    "version": 3
   },
   "file_extension": ".py",
   "mimetype": "text/x-python",
   "name": "python",
   "nbconvert_exporter": "python",
   "pygments_lexer": "ipython3",
   "version": "3.12.3"
  }
 },
 "nbformat": 4,
 "nbformat_minor": 5
}
