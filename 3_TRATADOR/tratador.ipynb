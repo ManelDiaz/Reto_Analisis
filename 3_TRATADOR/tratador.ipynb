{
 "cells": [
  {
   "cell_type": "code",
   "execution_count": null,
   "id": "d45478e6",
   "metadata": {},
   "outputs": [],
   "source": [
    "import pandas as pd \n",
    "\n",
    "df_asig = pd.read_csv('../1_GENERADOR/asignaturas.csv')\n",
    "df_est = pd.read_csv('../1_GENERADOR/estudiantes.csv')\n",
    "df_not = pd.read_csv('../1_GENERADOR/notas.csv')"
   ]
  },
  {
   "cell_type": "markdown",
   "id": "7bf318b7",
   "metadata": {},
   "source": [
    "1\n",
    "\n",
    "Vamos a eliminar todos las filas que tengan nulos en cada csv."
   ]
  },
  {
   "cell_type": "code",
   "execution_count": null,
   "id": "77e79242",
   "metadata": {},
   "outputs": [],
   "source": [
    "for col in df_asig.columns:\n",
    "    for fila in df_asig.index:\n",
    "        if str(df_asig.loc[fila, col]) == \"null\":\n",
    "            df_asig.drop(fila, inplace=True)"
   ]
  },
  {
   "cell_type": "code",
   "execution_count": null,
   "id": "86a52441",
   "metadata": {},
   "outputs": [],
   "source": [
    "for col in df_est.columns:\n",
    "    for fila in df_est.index:\n",
    "        if str(df_est.loc[fila, col]) == \"null\":\n",
    "            df_est.drop(fila, inplace=True)"
   ]
  },
  {
   "cell_type": "code",
   "execution_count": null,
   "id": "0cc18467",
   "metadata": {},
   "outputs": [],
   "source": [
    "for col in df_not.columns:\n",
    "    for fila in df_not.index:\n",
    "        if str(df_not.loc[fila, col]) == \"null\":\n",
    "            df_not.drop(fila, inplace=True)"
   ]
  },
  {
   "cell_type": "code",
   "execution_count": null,
   "id": "2ef9afd4",
   "metadata": {},
   "outputs": [],
   "source": [
    "for column in df_asig.columns:\n",
    "    valores_unicos = df_asig[column].unique()\n",
    "    if df_asig[column].dtype == 'object' or len(valores_unicos) <= 10:\n",
    "        print(\"Columna: {}.\".format(column))\n",
    "        print(df_asig[column].value_counts())\n",
    "    else:\n",
    "        print(\"Columna: {}.\".format(column))\n",
    "        print(\"Tiene un rango de {} a {}\".format(df_asig[column].min(), df_asig[column].max()))\n",
    "    print(\" \")"
   ]
  }
 ],
 "metadata": {
  "kernelspec": {
   "display_name": "venv",
   "language": "python",
   "name": "python3"
  },
  "language_info": {
   "codemirror_mode": {
    "name": "ipython",
    "version": 3
   },
   "file_extension": ".py",
   "mimetype": "text/x-python",
   "name": "python",
   "nbconvert_exporter": "python",
   "pygments_lexer": "ipython3",
   "version": "3.12.3"
  }
 },
 "nbformat": 4,
 "nbformat_minor": 5
}
