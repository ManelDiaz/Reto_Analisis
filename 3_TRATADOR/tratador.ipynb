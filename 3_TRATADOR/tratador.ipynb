{
 "cells": [
  {
   "cell_type": "code",
   "execution_count": 1,
   "id": "d45478e6",
   "metadata": {},
   "outputs": [],
   "source": [
    "import pandas as pd \n",
    "\n",
    "df_asig = pd.read_csv('../1_GENERADOR/asignaturas.csv')\n",
    "df_est = pd.read_csv('../1_GENERADOR/estudiantes.csv')\n",
    "df_not = pd.read_csv('../1_GENERADOR/notas.csv')"
   ]
  },
  {
   "cell_type": "markdown",
   "id": "7bf318b7",
   "metadata": {},
   "source": [
    "1\n",
    "\n",
    "Vamos a eliminar todos las filas que tengan nulos en cada csv."
   ]
  },
  {
   "cell_type": "code",
   "execution_count": null,
   "id": "77e79242",
   "metadata": {},
   "outputs": [],
   "source": [
    "for col in df_asig.columns:\n",
    "    for fila in df_asig.index:\n",
    "        if str(df_asig.loc[fila, col]) == \"null\":\n",
    "            df_asig.drop(fila, inplace=True)"
   ]
  },
  {
   "cell_type": "code",
   "execution_count": null,
   "id": "86a52441",
   "metadata": {},
   "outputs": [],
   "source": [
    "for col in df_est.columns:\n",
    "    for fila in df_est.index:\n",
    "        if str(df_est.loc[fila, col]) == \"null\":\n",
    "            df_est.drop(fila, inplace=True)"
   ]
  },
  {
   "cell_type": "code",
   "execution_count": null,
   "id": "0cc18467",
   "metadata": {},
   "outputs": [],
   "source": [
    "for col in df_not.columns:\n",
    "    for fila in df_not.index:\n",
    "        if str(df_not.loc[fila, col]) == \"null\":\n",
    "            df_not.drop(fila, inplace=True)"
   ]
  },
  {
   "cell_type": "code",
   "execution_count": 15,
   "id": "2ef9afd4",
   "metadata": {},
   "outputs": [
    {
     "name": "stdout",
     "output_type": "stream",
     "text": [
      "Columna: id_asignatura.\n",
      "id_asignatura\n",
      "1     1\n",
      "2     1\n",
      "3     1\n",
      "4     1\n",
      "5     1\n",
      "6     1\n",
      "7     1\n",
      "8     1\n",
      "9     1\n",
      "10    1\n",
      "Name: count, dtype: int64\n",
      " \n",
      "Columna: nombre_asignatura.\n",
      "nombre_asignatura\n",
      "Matemáticas        1\n",
      "Física             1\n",
      "Historia           1\n",
      "Lengua Española    1\n",
      "Informática        1\n",
      "Biología           1\n",
      "Química            1\n",
      "Economía           1\n",
      "Filosofía          1\n",
      "Name: count, dtype: int64\n",
      " \n",
      "Columna: departamento.\n",
      "departamento\n",
      "Ciencias             4\n",
      "Humanidades          3\n",
      "Ciencias Sociales    1\n",
      "Idiomas              1\n",
      "Name: count, dtype: int64\n",
      " \n",
      "Columna: creditos.\n",
      "creditos\n",
      " 5      4\n",
      " 4      3\n",
      " 6      1\n",
      "-1      1\n",
      " 100    1\n",
      "Name: count, dtype: int64\n",
      " \n"
     ]
    }
   ],
   "source": [
    "for column in df_asig.columns:\n",
    "    valores_unicos = df_asig[column].unique()\n",
    "    if df_asig[column].dtype == 'object' or len(valores_unicos) <= 10:\n",
    "        print(\"Columna: {}.\".format(column))\n",
    "        print(df_asig[column].value_counts())\n",
    "    else:\n",
    "        print(\"Columna: {}.\".format(column))\n",
    "        print(\"Tiene un rango de {} a {}\".format(df_asig[column].min(), df_asig[column].max()))\n",
    "    print(\" \")"
   ]
  }
 ],
 "metadata": {
  "kernelspec": {
   "display_name": "venv",
   "language": "python",
   "name": "python3"
  },
  "language_info": {
   "codemirror_mode": {
    "name": "ipython",
    "version": 3
   },
   "file_extension": ".py",
   "mimetype": "text/x-python",
   "name": "python",
   "nbconvert_exporter": "python",
   "pygments_lexer": "ipython3",
   "version": "3.12.3"
  }
 },
 "nbformat": 4,
 "nbformat_minor": 5
}
