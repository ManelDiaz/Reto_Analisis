{
 "cells": [
  {
   "cell_type": "markdown",
   "id": "48512940",
   "metadata": {},
   "source": [
    "#1:\n",
    "\n",
    "Mostrar las primeras 5 filas de los dataframes\n",
    "\n",
    "________________________________________________________________________________"
   ]
  },
  {
   "cell_type": "code",
   "execution_count": 371,
   "id": "fd443bf7",
   "metadata": {},
   "outputs": [
    {
     "data": {
      "text/html": [
       "<div>\n",
       "<style scoped>\n",
       "    .dataframe tbody tr th:only-of-type {\n",
       "        vertical-align: middle;\n",
       "    }\n",
       "\n",
       "    .dataframe tbody tr th {\n",
       "        vertical-align: top;\n",
       "    }\n",
       "\n",
       "    .dataframe thead th {\n",
       "        text-align: right;\n",
       "    }\n",
       "</style>\n",
       "<table border=\"1\" class=\"dataframe\">\n",
       "  <thead>\n",
       "    <tr style=\"text-align: right;\">\n",
       "      <th></th>\n",
       "      <th>id_asignatura</th>\n",
       "      <th>nombre_asignatura</th>\n",
       "      <th>departamento</th>\n",
       "      <th>creditos</th>\n",
       "    </tr>\n",
       "  </thead>\n",
       "  <tbody>\n",
       "  </tbody>\n",
       "</table>\n",
       "</div>"
      ],
      "text/plain": [
       "Empty DataFrame\n",
       "Columns: [id_asignatura, nombre_asignatura, departamento, creditos]\n",
       "Index: []"
      ]
     },
     "execution_count": 371,
     "metadata": {},
     "output_type": "execute_result"
    }
   ],
   "source": [
    "import pandas as pd \n",
    "\n",
    "df_asig = pd.read_csv('../1_GENERADOR/asignaturas.csv')\n",
    "df_est = pd.read_csv('../1_GENERADOR/estudiantes.csv')\n",
    "df_not = pd.read_csv('../1_GENERADOR/notas.csv')\n",
    "\n",
    "df_asig.head(5)"
   ]
  },
  {
   "cell_type": "code",
   "execution_count": 372,
   "id": "bfa2e618",
   "metadata": {},
   "outputs": [
    {
     "data": {
      "text/html": [
       "<div>\n",
       "<style scoped>\n",
       "    .dataframe tbody tr th:only-of-type {\n",
       "        vertical-align: middle;\n",
       "    }\n",
       "\n",
       "    .dataframe tbody tr th {\n",
       "        vertical-align: top;\n",
       "    }\n",
       "\n",
       "    .dataframe thead th {\n",
       "        text-align: right;\n",
       "    }\n",
       "</style>\n",
       "<table border=\"1\" class=\"dataframe\">\n",
       "  <thead>\n",
       "    <tr style=\"text-align: right;\">\n",
       "      <th></th>\n",
       "      <th>id_estudiante</th>\n",
       "      <th>nombre</th>\n",
       "      <th>apellido</th>\n",
       "      <th>edad</th>\n",
       "      <th>sexo</th>\n",
       "      <th>ciudad</th>\n",
       "      <th>fecha_registro</th>\n",
       "    </tr>\n",
       "  </thead>\n",
       "  <tbody>\n",
       "  </tbody>\n",
       "</table>\n",
       "</div>"
      ],
      "text/plain": [
       "Empty DataFrame\n",
       "Columns: [id_estudiante, nombre, apellido, edad, sexo, ciudad, fecha_registro]\n",
       "Index: []"
      ]
     },
     "execution_count": 372,
     "metadata": {},
     "output_type": "execute_result"
    }
   ],
   "source": [
    "df_est.head(5)"
   ]
  },
  {
   "cell_type": "code",
   "execution_count": 373,
   "id": "e3de98d1",
   "metadata": {},
   "outputs": [
    {
     "data": {
      "text/html": [
       "<div>\n",
       "<style scoped>\n",
       "    .dataframe tbody tr th:only-of-type {\n",
       "        vertical-align: middle;\n",
       "    }\n",
       "\n",
       "    .dataframe tbody tr th {\n",
       "        vertical-align: top;\n",
       "    }\n",
       "\n",
       "    .dataframe thead th {\n",
       "        text-align: right;\n",
       "    }\n",
       "</style>\n",
       "<table border=\"1\" class=\"dataframe\">\n",
       "  <thead>\n",
       "    <tr style=\"text-align: right;\">\n",
       "      <th></th>\n",
       "      <th>id_estudiante</th>\n",
       "      <th>id_asignatura</th>\n",
       "      <th>nota</th>\n",
       "      <th>convocatoria</th>\n",
       "      <th>fecha_examen</th>\n",
       "    </tr>\n",
       "  </thead>\n",
       "  <tbody>\n",
       "    <tr>\n",
       "      <th>0</th>\n",
       "      <td>1.0</td>\n",
       "      <td>15.0</td>\n",
       "      <td>8.3</td>\n",
       "      <td>Extraordinaria</td>\n",
       "      <td>2024-10-26</td>\n",
       "    </tr>\n",
       "    <tr>\n",
       "      <th>1</th>\n",
       "      <td>1.0</td>\n",
       "      <td>26.0</td>\n",
       "      <td>9.7</td>\n",
       "      <td>Extraordinaria</td>\n",
       "      <td>2024-04-05</td>\n",
       "    </tr>\n",
       "    <tr>\n",
       "      <th>2</th>\n",
       "      <td>2.0</td>\n",
       "      <td>5.0</td>\n",
       "      <td>2.2</td>\n",
       "      <td>Ordinaria</td>\n",
       "      <td>2024-01-22</td>\n",
       "    </tr>\n",
       "    <tr>\n",
       "      <th>3</th>\n",
       "      <td>2.0</td>\n",
       "      <td>22.0</td>\n",
       "      <td>1.9</td>\n",
       "      <td>Ordinaria</td>\n",
       "      <td>2025-05-10</td>\n",
       "    </tr>\n",
       "    <tr>\n",
       "      <th>4</th>\n",
       "      <td>3.0</td>\n",
       "      <td>13.0</td>\n",
       "      <td>6.5</td>\n",
       "      <td>Ordinaria</td>\n",
       "      <td>2024-08-25</td>\n",
       "    </tr>\n",
       "  </tbody>\n",
       "</table>\n",
       "</div>"
      ],
      "text/plain": [
       "   id_estudiante  id_asignatura  nota    convocatoria fecha_examen\n",
       "0            1.0           15.0   8.3  Extraordinaria   2024-10-26\n",
       "1            1.0           26.0   9.7  Extraordinaria   2024-04-05\n",
       "2            2.0            5.0   2.2       Ordinaria   2024-01-22\n",
       "3            2.0           22.0   1.9       Ordinaria   2025-05-10\n",
       "4            3.0           13.0   6.5       Ordinaria   2024-08-25"
      ]
     },
     "execution_count": 373,
     "metadata": {},
     "output_type": "execute_result"
    }
   ],
   "source": [
    "df_not.head(5)"
   ]
  },
  {
   "cell_type": "markdown",
   "id": "8646bbdb",
   "metadata": {},
   "source": [
    "#2:\n",
    "\n",
    "Mostrar información general de los dataframes\n",
    "\n",
    "________________________________________________________________________________"
   ]
  },
  {
   "cell_type": "code",
   "execution_count": 374,
   "id": "b84dff39",
   "metadata": {},
   "outputs": [
    {
     "name": "stdout",
     "output_type": "stream",
     "text": [
      "<class 'pandas.core.frame.DataFrame'>\n",
      "RangeIndex: 0 entries\n",
      "Data columns (total 4 columns):\n",
      " #   Column             Non-Null Count  Dtype \n",
      "---  ------             --------------  ----- \n",
      " 0   id_asignatura      0 non-null      object\n",
      " 1   nombre_asignatura  0 non-null      object\n",
      " 2   departamento       0 non-null      object\n",
      " 3   creditos           0 non-null      object\n",
      "dtypes: object(4)\n",
      "memory usage: 132.0+ bytes\n"
     ]
    }
   ],
   "source": [
    "df_asig.info()"
   ]
  },
  {
   "cell_type": "code",
   "execution_count": 375,
   "id": "c9194c27",
   "metadata": {},
   "outputs": [
    {
     "name": "stdout",
     "output_type": "stream",
     "text": [
      "<class 'pandas.core.frame.DataFrame'>\n",
      "RangeIndex: 0 entries\n",
      "Data columns (total 7 columns):\n",
      " #   Column          Non-Null Count  Dtype \n",
      "---  ------          --------------  ----- \n",
      " 0   id_estudiante   0 non-null      object\n",
      " 1   nombre          0 non-null      object\n",
      " 2   apellido        0 non-null      object\n",
      " 3   edad            0 non-null      object\n",
      " 4   sexo            0 non-null      object\n",
      " 5   ciudad          0 non-null      object\n",
      " 6   fecha_registro  0 non-null      object\n",
      "dtypes: object(7)\n",
      "memory usage: 132.0+ bytes\n"
     ]
    }
   ],
   "source": [
    "df_est.info()"
   ]
  },
  {
   "cell_type": "code",
   "execution_count": 376,
   "id": "8e3c6124",
   "metadata": {},
   "outputs": [
    {
     "name": "stdout",
     "output_type": "stream",
     "text": [
      "<class 'pandas.core.frame.DataFrame'>\n",
      "RangeIndex: 2690 entries, 0 to 2689\n",
      "Data columns (total 5 columns):\n",
      " #   Column         Non-Null Count  Dtype  \n",
      "---  ------         --------------  -----  \n",
      " 0   id_estudiante  2690 non-null   float64\n",
      " 1   id_asignatura  2690 non-null   float64\n",
      " 2   nota           2690 non-null   float64\n",
      " 3   convocatoria   2690 non-null   object \n",
      " 4   fecha_examen   2690 non-null   object \n",
      "dtypes: float64(3), object(2)\n",
      "memory usage: 105.2+ KB\n"
     ]
    }
   ],
   "source": [
    "df_not.info()"
   ]
  },
  {
   "cell_type": "markdown",
   "id": "3bdefe06",
   "metadata": {},
   "source": [
    "#3:\n",
    "\n",
    "Comprobar valores faltantes\n",
    "\n",
    "________________________________________________________________________________"
   ]
  },
  {
   "cell_type": "code",
   "execution_count": 377,
   "id": "ca8a38d8",
   "metadata": {},
   "outputs": [
    {
     "name": "stdout",
     "output_type": "stream",
     "text": [
      "id_asignatura        0\n",
      "nombre_asignatura    0\n",
      "departamento         0\n",
      "creditos             0\n",
      "dtype: int64\n"
     ]
    }
   ],
   "source": [
    "print(df_asig.isnull().sum())"
   ]
  },
  {
   "cell_type": "code",
   "execution_count": 378,
   "id": "dd0cc95d",
   "metadata": {},
   "outputs": [
    {
     "name": "stdout",
     "output_type": "stream",
     "text": [
      "id_estudiante     0\n",
      "nombre            0\n",
      "apellido          0\n",
      "edad              0\n",
      "sexo              0\n",
      "ciudad            0\n",
      "fecha_registro    0\n",
      "dtype: int64\n"
     ]
    }
   ],
   "source": [
    "print(df_est.isnull().sum())"
   ]
  },
  {
   "cell_type": "code",
   "execution_count": 379,
   "id": "f9619291",
   "metadata": {},
   "outputs": [
    {
     "name": "stdout",
     "output_type": "stream",
     "text": [
      "id_estudiante    0\n",
      "id_asignatura    0\n",
      "nota             0\n",
      "convocatoria     0\n",
      "fecha_examen     0\n",
      "dtype: int64\n"
     ]
    }
   ],
   "source": [
    "print(df_not.isnull().sum())"
   ]
  },
  {
   "cell_type": "markdown",
   "id": "df44cc25",
   "metadata": {},
   "source": [
    "#4:\n",
    "\n",
    "Calcular estadisticas numéricas\n",
    "\n",
    "________________________________________________________________________________"
   ]
  },
  {
   "cell_type": "code",
   "execution_count": 380,
   "id": "a7fc3f50",
   "metadata": {},
   "outputs": [
    {
     "name": "stdout",
     "output_type": "stream",
     "text": [
      "       id_asignatura nombre_asignatura departamento creditos\n",
      "count              0                 0            0        0\n",
      "unique             0                 0            0        0\n",
      "top              NaN               NaN          NaN      NaN\n",
      "freq             NaN               NaN          NaN      NaN\n"
     ]
    }
   ],
   "source": [
    "print(df_asig.describe())"
   ]
  },
  {
   "cell_type": "code",
   "execution_count": 381,
   "id": "7651cac6",
   "metadata": {},
   "outputs": [
    {
     "name": "stdout",
     "output_type": "stream",
     "text": [
      "       id_estudiante nombre apellido edad sexo ciudad fecha_registro\n",
      "count              0      0        0    0    0      0              0\n",
      "unique             0      0        0    0    0      0              0\n",
      "top              NaN    NaN      NaN  NaN  NaN    NaN            NaN\n",
      "freq             NaN    NaN      NaN  NaN  NaN    NaN            NaN\n"
     ]
    }
   ],
   "source": [
    "print(df_est.describe())"
   ]
  },
  {
   "cell_type": "code",
   "execution_count": 382,
   "id": "4d6d44e8",
   "metadata": {},
   "outputs": [
    {
     "name": "stdout",
     "output_type": "stream",
     "text": [
      "       id_estudiante  id_asignatura         nota\n",
      "count    2690.000000    2690.000000  2690.000000\n",
      "mean      655.675465      30.257249     4.937732\n",
      "std      1280.301319     122.354061     2.987568\n",
      "min      -100.000000      -5.000000     0.000000\n",
      "25%       242.000000       7.000000     2.300000\n",
      "50%       502.000000      15.000000     4.900000\n",
      "75%       758.000000      23.000000     7.500000\n",
      "max      9999.000000     999.000000    10.000000\n"
     ]
    }
   ],
   "source": [
    "print(df_not.describe())"
   ]
  },
  {
   "cell_type": "markdown",
   "id": "6e8b54f5",
   "metadata": {},
   "source": [
    "#5:\n",
    "\n",
    "Comprobar duplicados\n",
    "\n",
    "________________________________________________________________________________"
   ]
  },
  {
   "cell_type": "code",
   "execution_count": 383,
   "id": "a908d21f",
   "metadata": {},
   "outputs": [
    {
     "name": "stdout",
     "output_type": "stream",
     "text": [
      "0\n"
     ]
    }
   ],
   "source": [
    "print(df_asig.duplicated().sum())"
   ]
  },
  {
   "cell_type": "code",
   "execution_count": 384,
   "id": "c3370af5",
   "metadata": {},
   "outputs": [
    {
     "name": "stdout",
     "output_type": "stream",
     "text": [
      "0\n"
     ]
    }
   ],
   "source": [
    "print(df_est.duplicated().sum())"
   ]
  },
  {
   "cell_type": "code",
   "execution_count": 385,
   "id": "287b90eb",
   "metadata": {},
   "outputs": [
    {
     "name": "stdout",
     "output_type": "stream",
     "text": [
      "0\n"
     ]
    }
   ],
   "source": [
    "print(df_not.duplicated().sum())"
   ]
  }
 ],
 "metadata": {
  "kernelspec": {
   "display_name": "venv",
   "language": "python",
   "name": "python3"
  },
  "language_info": {
   "codemirror_mode": {
    "name": "ipython",
    "version": 3
   },
   "file_extension": ".py",
   "mimetype": "text/x-python",
   "name": "python",
   "nbconvert_exporter": "python",
   "pygments_lexer": "ipython3",
   "version": "3.12.3"
  }
 },
 "nbformat": 4,
 "nbformat_minor": 5
}
