{
 "cells": [
  {
   "cell_type": "markdown",
   "id": "48512940",
   "metadata": {},
   "source": [
    "#1:\n",
    "\n",
    "Mostrar las primeras 5 filas de los dataframes\n",
    "\n",
    "________________________________________________________________________________"
   ]
  },
  {
   "cell_type": "code",
   "execution_count": 27,
   "id": "fd443bf7",
   "metadata": {},
   "outputs": [
    {
     "data": {
      "text/html": [
       "<div>\n",
       "<style scoped>\n",
       "    .dataframe tbody tr th:only-of-type {\n",
       "        vertical-align: middle;\n",
       "    }\n",
       "\n",
       "    .dataframe tbody tr th {\n",
       "        vertical-align: top;\n",
       "    }\n",
       "\n",
       "    .dataframe thead th {\n",
       "        text-align: right;\n",
       "    }\n",
       "</style>\n",
       "<table border=\"1\" class=\"dataframe\">\n",
       "  <thead>\n",
       "    <tr style=\"text-align: right;\">\n",
       "      <th></th>\n",
       "      <th>id_asignatura</th>\n",
       "      <th>nombre_asignatura</th>\n",
       "      <th>departamento</th>\n",
       "      <th>creditos</th>\n",
       "    </tr>\n",
       "  </thead>\n",
       "  <tbody>\n",
       "    <tr>\n",
       "      <th>0</th>\n",
       "      <td>1</td>\n",
       "      <td>Profesional de ventas de tecnología de la info...</td>\n",
       "      <td>Humanidades</td>\n",
       "      <td>4</td>\n",
       "    </tr>\n",
       "    <tr>\n",
       "      <th>1</th>\n",
       "      <td>2</td>\n",
       "      <td>Conserje</td>\n",
       "      <td>NaN</td>\n",
       "      <td>6</td>\n",
       "    </tr>\n",
       "    <tr>\n",
       "      <th>2</th>\n",
       "      <td>3</td>\n",
       "      <td>Químico</td>\n",
       "      <td>Humanidades</td>\n",
       "      <td>6</td>\n",
       "    </tr>\n",
       "    <tr>\n",
       "      <th>3</th>\n",
       "      <td>4</td>\n",
       "      <td>Empacador manual</td>\n",
       "      <td>Ciencias</td>\n",
       "      <td>6</td>\n",
       "    </tr>\n",
       "    <tr>\n",
       "      <th>4</th>\n",
       "      <td>5</td>\n",
       "      <td>Trabajador pecuario de subsistencia</td>\n",
       "      <td>Ciencias Sociales</td>\n",
       "      <td>-1</td>\n",
       "    </tr>\n",
       "  </tbody>\n",
       "</table>\n",
       "</div>"
      ],
      "text/plain": [
       "   id_asignatura                                  nombre_asignatura  \\\n",
       "0              1  Profesional de ventas de tecnología de la info...   \n",
       "1              2                                           Conserje   \n",
       "2              3                                            Químico   \n",
       "3              4                                   Empacador manual   \n",
       "4              5                Trabajador pecuario de subsistencia   \n",
       "\n",
       "        departamento  creditos  \n",
       "0        Humanidades         4  \n",
       "1                NaN         6  \n",
       "2        Humanidades         6  \n",
       "3           Ciencias         6  \n",
       "4  Ciencias Sociales        -1  "
      ]
     },
     "execution_count": 27,
     "metadata": {},
     "output_type": "execute_result"
    }
   ],
   "source": [
    "import pandas as pd \n",
    "\n",
    "df_asig = pd.read_csv('../1_GENERADOR/asignaturas.csv')\n",
    "df_est = pd.read_csv('../1_GENERADOR/estudiantes.csv')\n",
    "df_not = pd.read_csv('../1_GENERADOR/notas.csv')\n",
    "\n",
    "df_asig.head(5)"
   ]
  },
  {
   "cell_type": "code",
   "execution_count": 28,
   "id": "bfa2e618",
   "metadata": {},
   "outputs": [
    {
     "data": {
      "text/html": [
       "<div>\n",
       "<style scoped>\n",
       "    .dataframe tbody tr th:only-of-type {\n",
       "        vertical-align: middle;\n",
       "    }\n",
       "\n",
       "    .dataframe tbody tr th {\n",
       "        vertical-align: top;\n",
       "    }\n",
       "\n",
       "    .dataframe thead th {\n",
       "        text-align: right;\n",
       "    }\n",
       "</style>\n",
       "<table border=\"1\" class=\"dataframe\">\n",
       "  <thead>\n",
       "    <tr style=\"text-align: right;\">\n",
       "      <th></th>\n",
       "      <th>id_estudiante</th>\n",
       "      <th>nombre</th>\n",
       "      <th>apellido</th>\n",
       "      <th>edad</th>\n",
       "      <th>sexo</th>\n",
       "      <th>ciudad</th>\n",
       "      <th>fecha_registro</th>\n",
       "    </tr>\n",
       "  </thead>\n",
       "  <tbody>\n",
       "    <tr>\n",
       "      <th>0</th>\n",
       "      <td>1</td>\n",
       "      <td>Charo</td>\n",
       "      <td>Vélez</td>\n",
       "      <td>24.0</td>\n",
       "      <td>F</td>\n",
       "      <td>Navarra</td>\n",
       "      <td>2025-04-01</td>\n",
       "    </tr>\n",
       "    <tr>\n",
       "      <th>1</th>\n",
       "      <td>2</td>\n",
       "      <td>Oriana</td>\n",
       "      <td>Santana</td>\n",
       "      <td>34.0</td>\n",
       "      <td>F</td>\n",
       "      <td>Ourense</td>\n",
       "      <td>2024-12-08</td>\n",
       "    </tr>\n",
       "    <tr>\n",
       "      <th>2</th>\n",
       "      <td>3</td>\n",
       "      <td>Jonatan</td>\n",
       "      <td>Bou</td>\n",
       "      <td>7.0</td>\n",
       "      <td>F</td>\n",
       "      <td>Madrid</td>\n",
       "      <td>2024-12-30</td>\n",
       "    </tr>\n",
       "    <tr>\n",
       "      <th>3</th>\n",
       "      <td>4</td>\n",
       "      <td>Pastor</td>\n",
       "      <td>Huguet</td>\n",
       "      <td>30.0</td>\n",
       "      <td>M</td>\n",
       "      <td>Ceuta</td>\n",
       "      <td>2023-01-14</td>\n",
       "    </tr>\n",
       "    <tr>\n",
       "      <th>4</th>\n",
       "      <td>5</td>\n",
       "      <td>Eligio</td>\n",
       "      <td>Sandoval</td>\n",
       "      <td>21.0</td>\n",
       "      <td>F</td>\n",
       "      <td>León</td>\n",
       "      <td>2023-02-20</td>\n",
       "    </tr>\n",
       "  </tbody>\n",
       "</table>\n",
       "</div>"
      ],
      "text/plain": [
       "   id_estudiante   nombre  apellido  edad sexo   ciudad fecha_registro\n",
       "0              1    Charo     Vélez  24.0    F  Navarra     2025-04-01\n",
       "1              2   Oriana   Santana  34.0    F  Ourense     2024-12-08\n",
       "2              3  Jonatan       Bou   7.0    F   Madrid     2024-12-30\n",
       "3              4   Pastor    Huguet  30.0    M    Ceuta     2023-01-14\n",
       "4              5   Eligio  Sandoval  21.0    F     León     2023-02-20"
      ]
     },
     "execution_count": 28,
     "metadata": {},
     "output_type": "execute_result"
    }
   ],
   "source": [
    "df_est.head(5)"
   ]
  },
  {
   "cell_type": "code",
   "execution_count": 4,
   "id": "e3de98d1",
   "metadata": {},
   "outputs": [
    {
     "data": {
      "text/html": [
       "<div>\n",
       "<style scoped>\n",
       "    .dataframe tbody tr th:only-of-type {\n",
       "        vertical-align: middle;\n",
       "    }\n",
       "\n",
       "    .dataframe tbody tr th {\n",
       "        vertical-align: top;\n",
       "    }\n",
       "\n",
       "    .dataframe thead th {\n",
       "        text-align: right;\n",
       "    }\n",
       "</style>\n",
       "<table border=\"1\" class=\"dataframe\">\n",
       "  <thead>\n",
       "    <tr style=\"text-align: right;\">\n",
       "      <th></th>\n",
       "      <th>id_estudiante</th>\n",
       "      <th>id_asignatura</th>\n",
       "      <th>nota</th>\n",
       "      <th>convocatoria</th>\n",
       "      <th>fecha_examen</th>\n",
       "    </tr>\n",
       "  </thead>\n",
       "  <tbody>\n",
       "    <tr>\n",
       "      <th>0</th>\n",
       "      <td>1.0</td>\n",
       "      <td>20.0</td>\n",
       "      <td>6.9</td>\n",
       "      <td>Ordinaria</td>\n",
       "      <td>2024-03-19</td>\n",
       "    </tr>\n",
       "    <tr>\n",
       "      <th>1</th>\n",
       "      <td>1.0</td>\n",
       "      <td>5.0</td>\n",
       "      <td>5.6</td>\n",
       "      <td>Ordinaria</td>\n",
       "      <td>2024-11-24</td>\n",
       "    </tr>\n",
       "    <tr>\n",
       "      <th>2</th>\n",
       "      <td>1.0</td>\n",
       "      <td>11.0</td>\n",
       "      <td>2.2</td>\n",
       "      <td>Ordinaria</td>\n",
       "      <td>2024-07-02</td>\n",
       "    </tr>\n",
       "    <tr>\n",
       "      <th>3</th>\n",
       "      <td>2.0</td>\n",
       "      <td>9.0</td>\n",
       "      <td>9.9</td>\n",
       "      <td>Ordinaria</td>\n",
       "      <td>2024-04-06</td>\n",
       "    </tr>\n",
       "    <tr>\n",
       "      <th>4</th>\n",
       "      <td>2.0</td>\n",
       "      <td>-5.0</td>\n",
       "      <td>4.5</td>\n",
       "      <td>Ordinaria</td>\n",
       "      <td>2023-06-05</td>\n",
       "    </tr>\n",
       "  </tbody>\n",
       "</table>\n",
       "</div>"
      ],
      "text/plain": [
       "   id_estudiante  id_asignatura  nota convocatoria fecha_examen\n",
       "0            1.0           20.0   6.9    Ordinaria   2024-03-19\n",
       "1            1.0            5.0   5.6    Ordinaria   2024-11-24\n",
       "2            1.0           11.0   2.2    Ordinaria   2024-07-02\n",
       "3            2.0            9.0   9.9    Ordinaria   2024-04-06\n",
       "4            2.0           -5.0   4.5    Ordinaria   2023-06-05"
      ]
     },
     "execution_count": 4,
     "metadata": {},
     "output_type": "execute_result"
    }
   ],
   "source": [
    "df_not.head(5)"
   ]
  },
  {
   "cell_type": "markdown",
   "id": "8646bbdb",
   "metadata": {},
   "source": [
    "#2:\n",
    "\n",
    "Mostrar información general de los dataframes\n",
    "\n",
    "________________________________________________________________________________"
   ]
  },
  {
   "cell_type": "code",
   "execution_count": 29,
   "id": "b84dff39",
   "metadata": {},
   "outputs": [
    {
     "name": "stdout",
     "output_type": "stream",
     "text": [
      "<class 'pandas.core.frame.DataFrame'>\n",
      "RangeIndex: 30 entries, 0 to 29\n",
      "Data columns (total 4 columns):\n",
      " #   Column             Non-Null Count  Dtype \n",
      "---  ------             --------------  ----- \n",
      " 0   id_asignatura      30 non-null     int64 \n",
      " 1   nombre_asignatura  30 non-null     object\n",
      " 2   departamento       26 non-null     object\n",
      " 3   creditos           30 non-null     int64 \n",
      "dtypes: int64(2), object(2)\n",
      "memory usage: 1.1+ KB\n"
     ]
    }
   ],
   "source": [
    "df_asig.info()"
   ]
  },
  {
   "cell_type": "code",
   "execution_count": 30,
   "id": "c9194c27",
   "metadata": {},
   "outputs": [
    {
     "name": "stdout",
     "output_type": "stream",
     "text": [
      "<class 'pandas.core.frame.DataFrame'>\n",
      "RangeIndex: 1000 entries, 0 to 999\n",
      "Data columns (total 7 columns):\n",
      " #   Column          Non-Null Count  Dtype  \n",
      "---  ------          --------------  -----  \n",
      " 0   id_estudiante   1000 non-null   int64  \n",
      " 1   nombre          946 non-null    object \n",
      " 2   apellido        949 non-null    object \n",
      " 3   edad            984 non-null    float64\n",
      " 4   sexo            973 non-null    object \n",
      " 5   ciudad          951 non-null    object \n",
      " 6   fecha_registro  975 non-null    object \n",
      "dtypes: float64(1), int64(1), object(5)\n",
      "memory usage: 54.8+ KB\n"
     ]
    }
   ],
   "source": [
    "df_est.info()"
   ]
  },
  {
   "cell_type": "code",
   "execution_count": 31,
   "id": "8e3c6124",
   "metadata": {},
   "outputs": [
    {
     "name": "stdout",
     "output_type": "stream",
     "text": [
      "<class 'pandas.core.frame.DataFrame'>\n",
      "RangeIndex: 3000 entries, 0 to 2999\n",
      "Data columns (total 5 columns):\n",
      " #   Column         Non-Null Count  Dtype  \n",
      "---  ------         --------------  -----  \n",
      " 0   id_estudiante  2951 non-null   float64\n",
      " 1   id_asignatura  2947 non-null   float64\n",
      " 2   nota           2950 non-null   float64\n",
      " 3   convocatoria   2924 non-null   object \n",
      " 4   fecha_examen   2914 non-null   object \n",
      "dtypes: float64(3), object(2)\n",
      "memory usage: 117.3+ KB\n"
     ]
    }
   ],
   "source": [
    "df_not.info()"
   ]
  },
  {
   "cell_type": "code",
   "execution_count": 32,
   "id": "1e42ecd2",
   "metadata": {},
   "outputs": [
    {
     "data": {
      "text/plain": [
       "id_asignatura        30\n",
       "nombre_asignatura    30\n",
       "departamento          5\n",
       "creditos              6\n",
       "dtype: int64"
      ]
     },
     "execution_count": 32,
     "metadata": {},
     "output_type": "execute_result"
    }
   ],
   "source": [
    "df_asig.nunique()"
   ]
  },
  {
   "cell_type": "code",
   "execution_count": 33,
   "id": "4c9f2550",
   "metadata": {},
   "outputs": [
    {
     "data": {
      "text/plain": [
       "id_estudiante     1000\n",
       "nombre             590\n",
       "apellido           651\n",
       "edad                48\n",
       "sexo                 4\n",
       "ciudad              52\n",
       "fecha_registro     670\n",
       "dtype: int64"
      ]
     },
     "execution_count": 33,
     "metadata": {},
     "output_type": "execute_result"
    }
   ],
   "source": [
    "df_est.nunique()"
   ]
  },
  {
   "cell_type": "code",
   "execution_count": 34,
   "id": "a4cef0c4",
   "metadata": {},
   "outputs": [
    {
     "data": {
      "text/plain": [
       "id_estudiante    999\n",
       "id_asignatura     32\n",
       "nota             101\n",
       "convocatoria       4\n",
       "fecha_examen     793\n",
       "dtype: int64"
      ]
     },
     "execution_count": 34,
     "metadata": {},
     "output_type": "execute_result"
    }
   ],
   "source": [
    "df_not.nunique()"
   ]
  },
  {
   "cell_type": "code",
   "execution_count": 35,
   "id": "fea7bc73",
   "metadata": {},
   "outputs": [
    {
     "data": {
      "text/html": [
       "<div>\n",
       "<style scoped>\n",
       "    .dataframe tbody tr th:only-of-type {\n",
       "        vertical-align: middle;\n",
       "    }\n",
       "\n",
       "    .dataframe tbody tr th {\n",
       "        vertical-align: top;\n",
       "    }\n",
       "\n",
       "    .dataframe thead th {\n",
       "        text-align: right;\n",
       "    }\n",
       "</style>\n",
       "<table border=\"1\" class=\"dataframe\">\n",
       "  <thead>\n",
       "    <tr style=\"text-align: right;\">\n",
       "      <th></th>\n",
       "      <th>count</th>\n",
       "      <th>mean</th>\n",
       "      <th>std</th>\n",
       "      <th>min</th>\n",
       "      <th>25%</th>\n",
       "      <th>50%</th>\n",
       "      <th>75%</th>\n",
       "      <th>max</th>\n",
       "    </tr>\n",
       "  </thead>\n",
       "  <tbody>\n",
       "    <tr>\n",
       "      <th>id_asignatura</th>\n",
       "      <td>30.0</td>\n",
       "      <td>15.500000</td>\n",
       "      <td>8.803408</td>\n",
       "      <td>1.0</td>\n",
       "      <td>8.25</td>\n",
       "      <td>15.5</td>\n",
       "      <td>22.75</td>\n",
       "      <td>30.0</td>\n",
       "    </tr>\n",
       "    <tr>\n",
       "      <th>creditos</th>\n",
       "      <td>30.0</td>\n",
       "      <td>10.766667</td>\n",
       "      <td>24.302240</td>\n",
       "      <td>-1.0</td>\n",
       "      <td>4.00</td>\n",
       "      <td>5.0</td>\n",
       "      <td>6.00</td>\n",
       "      <td>100.0</td>\n",
       "    </tr>\n",
       "  </tbody>\n",
       "</table>\n",
       "</div>"
      ],
      "text/plain": [
       "               count       mean        std  min   25%   50%    75%    max\n",
       "id_asignatura   30.0  15.500000   8.803408  1.0  8.25  15.5  22.75   30.0\n",
       "creditos        30.0  10.766667  24.302240 -1.0  4.00   5.0   6.00  100.0"
      ]
     },
     "execution_count": 35,
     "metadata": {},
     "output_type": "execute_result"
    }
   ],
   "source": [
    "df_asig.describe().T"
   ]
  },
  {
   "cell_type": "code",
   "execution_count": 25,
   "id": "6f0f2762",
   "metadata": {},
   "outputs": [
    {
     "data": {
      "text/html": [
       "<div>\n",
       "<style scoped>\n",
       "    .dataframe tbody tr th:only-of-type {\n",
       "        vertical-align: middle;\n",
       "    }\n",
       "\n",
       "    .dataframe tbody tr th {\n",
       "        vertical-align: top;\n",
       "    }\n",
       "\n",
       "    .dataframe thead th {\n",
       "        text-align: right;\n",
       "    }\n",
       "</style>\n",
       "<table border=\"1\" class=\"dataframe\">\n",
       "  <thead>\n",
       "    <tr style=\"text-align: right;\">\n",
       "      <th></th>\n",
       "      <th>count</th>\n",
       "      <th>mean</th>\n",
       "      <th>std</th>\n",
       "      <th>min</th>\n",
       "      <th>25%</th>\n",
       "      <th>50%</th>\n",
       "      <th>75%</th>\n",
       "      <th>max</th>\n",
       "    </tr>\n",
       "  </thead>\n",
       "  <tbody>\n",
       "    <tr>\n",
       "      <th>id_estudiante</th>\n",
       "      <td>1000.0</td>\n",
       "      <td>500.500000</td>\n",
       "      <td>288.819436</td>\n",
       "      <td>1.0</td>\n",
       "      <td>250.75</td>\n",
       "      <td>500.5</td>\n",
       "      <td>750.25</td>\n",
       "      <td>1000.0</td>\n",
       "    </tr>\n",
       "    <tr>\n",
       "      <th>edad</th>\n",
       "      <td>984.0</td>\n",
       "      <td>29.948171</td>\n",
       "      <td>12.347559</td>\n",
       "      <td>-5.0</td>\n",
       "      <td>23.00</td>\n",
       "      <td>29.0</td>\n",
       "      <td>35.00</td>\n",
       "      <td>116.0</td>\n",
       "    </tr>\n",
       "  </tbody>\n",
       "</table>\n",
       "</div>"
      ],
      "text/plain": [
       "                count        mean         std  min     25%    50%     75%  \\\n",
       "id_estudiante  1000.0  500.500000  288.819436  1.0  250.75  500.5  750.25   \n",
       "edad            984.0   29.948171   12.347559 -5.0   23.00   29.0   35.00   \n",
       "\n",
       "                  max  \n",
       "id_estudiante  1000.0  \n",
       "edad            116.0  "
      ]
     },
     "execution_count": 25,
     "metadata": {},
     "output_type": "execute_result"
    }
   ],
   "source": [
    "df_est.describe().T"
   ]
  },
  {
   "cell_type": "code",
   "execution_count": 26,
   "id": "7115138d",
   "metadata": {},
   "outputs": [
    {
     "data": {
      "text/html": [
       "<div>\n",
       "<style scoped>\n",
       "    .dataframe tbody tr th:only-of-type {\n",
       "        vertical-align: middle;\n",
       "    }\n",
       "\n",
       "    .dataframe tbody tr th {\n",
       "        vertical-align: top;\n",
       "    }\n",
       "\n",
       "    .dataframe thead th {\n",
       "        text-align: right;\n",
       "    }\n",
       "</style>\n",
       "<table border=\"1\" class=\"dataframe\">\n",
       "  <thead>\n",
       "    <tr style=\"text-align: right;\">\n",
       "      <th></th>\n",
       "      <th>count</th>\n",
       "      <th>mean</th>\n",
       "      <th>std</th>\n",
       "      <th>min</th>\n",
       "      <th>25%</th>\n",
       "      <th>50%</th>\n",
       "      <th>75%</th>\n",
       "      <th>max</th>\n",
       "    </tr>\n",
       "  </thead>\n",
       "  <tbody>\n",
       "    <tr>\n",
       "      <th>id_estudiante</th>\n",
       "      <td>2951.0</td>\n",
       "      <td>665.000000</td>\n",
       "      <td>1308.277778</td>\n",
       "      <td>-100.0</td>\n",
       "      <td>242.5</td>\n",
       "      <td>504.0</td>\n",
       "      <td>763.5</td>\n",
       "      <td>9999.0</td>\n",
       "    </tr>\n",
       "    <tr>\n",
       "      <th>id_asignatura</th>\n",
       "      <td>2947.0</td>\n",
       "      <td>31.673566</td>\n",
       "      <td>127.412840</td>\n",
       "      <td>-5.0</td>\n",
       "      <td>8.0</td>\n",
       "      <td>15.0</td>\n",
       "      <td>23.0</td>\n",
       "      <td>999.0</td>\n",
       "    </tr>\n",
       "    <tr>\n",
       "      <th>nota</th>\n",
       "      <td>2950.0</td>\n",
       "      <td>5.031695</td>\n",
       "      <td>2.975550</td>\n",
       "      <td>0.0</td>\n",
       "      <td>2.5</td>\n",
       "      <td>5.0</td>\n",
       "      <td>7.6</td>\n",
       "      <td>10.0</td>\n",
       "    </tr>\n",
       "  </tbody>\n",
       "</table>\n",
       "</div>"
      ],
      "text/plain": [
       "                count        mean          std    min    25%    50%    75%  \\\n",
       "id_estudiante  2951.0  665.000000  1308.277778 -100.0  242.5  504.0  763.5   \n",
       "id_asignatura  2947.0   31.673566   127.412840   -5.0    8.0   15.0   23.0   \n",
       "nota           2950.0    5.031695     2.975550    0.0    2.5    5.0    7.6   \n",
       "\n",
       "                  max  \n",
       "id_estudiante  9999.0  \n",
       "id_asignatura   999.0  \n",
       "nota             10.0  "
      ]
     },
     "execution_count": 26,
     "metadata": {},
     "output_type": "execute_result"
    }
   ],
   "source": [
    "df_not.describe().T"
   ]
  },
  {
   "cell_type": "markdown",
   "id": "3bdefe06",
   "metadata": {},
   "source": [
    "#3:\n",
    "\n",
    "Comprobar valores faltantes\n",
    "\n",
    "________________________________________________________________________________"
   ]
  },
  {
   "cell_type": "code",
   "execution_count": 377,
   "id": "ca8a38d8",
   "metadata": {},
   "outputs": [
    {
     "name": "stdout",
     "output_type": "stream",
     "text": [
      "id_asignatura        0\n",
      "nombre_asignatura    0\n",
      "departamento         0\n",
      "creditos             0\n",
      "dtype: int64\n"
     ]
    }
   ],
   "source": [
    "print(df_asig.isnull().sum())"
   ]
  },
  {
   "cell_type": "code",
   "execution_count": 378,
   "id": "dd0cc95d",
   "metadata": {},
   "outputs": [
    {
     "name": "stdout",
     "output_type": "stream",
     "text": [
      "id_estudiante     0\n",
      "nombre            0\n",
      "apellido          0\n",
      "edad              0\n",
      "sexo              0\n",
      "ciudad            0\n",
      "fecha_registro    0\n",
      "dtype: int64\n"
     ]
    }
   ],
   "source": [
    "print(df_est.isnull().sum())"
   ]
  },
  {
   "cell_type": "code",
   "execution_count": 379,
   "id": "f9619291",
   "metadata": {},
   "outputs": [
    {
     "name": "stdout",
     "output_type": "stream",
     "text": [
      "id_estudiante    0\n",
      "id_asignatura    0\n",
      "nota             0\n",
      "convocatoria     0\n",
      "fecha_examen     0\n",
      "dtype: int64\n"
     ]
    }
   ],
   "source": [
    "print(df_not.isnull().sum())"
   ]
  },
  {
   "cell_type": "markdown",
   "id": "df44cc25",
   "metadata": {},
   "source": [
    "#4:\n",
    "\n",
    "Comprobar valores de columnas object\n",
    "\n",
    "________________________________________________________________________________"
   ]
  },
  {
   "cell_type": "code",
   "execution_count": 15,
   "id": "bc816654",
   "metadata": {},
   "outputs": [
    {
     "data": {
      "text/plain": [
       "departamento\n",
       "Ciencias             6\n",
       "Idiomas              6\n",
       "Humanidades          5\n",
       "Ingeniería           5\n",
       "Ciencias Sociales    4\n",
       "Name: count, dtype: int64"
      ]
     },
     "execution_count": 15,
     "metadata": {},
     "output_type": "execute_result"
    }
   ],
   "source": [
    "df_asig[\"departamento\"].value_counts()"
   ]
  },
  {
   "cell_type": "code",
   "execution_count": 16,
   "id": "3b9e1b5d",
   "metadata": {},
   "outputs": [
    {
     "data": {
      "text/plain": [
       "sexo\n",
       "F    509\n",
       "M    442\n",
       "1     12\n",
       "X     10\n",
       "Name: count, dtype: int64"
      ]
     },
     "execution_count": 16,
     "metadata": {},
     "output_type": "execute_result"
    }
   ],
   "source": [
    "df_est[\"sexo\"].value_counts()"
   ]
  },
  {
   "cell_type": "code",
   "execution_count": 17,
   "id": "3ec0d44e",
   "metadata": {},
   "outputs": [
    {
     "data": {
      "text/plain": [
       "convocatoria\n",
       "Ordinaria         1464\n",
       "Extraordinaria    1376\n",
       "Desconocida         46\n",
       "123                 38\n",
       "Name: count, dtype: int64"
      ]
     },
     "execution_count": 17,
     "metadata": {},
     "output_type": "execute_result"
    }
   ],
   "source": [
    "df_not[\"convocatoria\"].value_counts()"
   ]
  },
  {
   "cell_type": "markdown",
   "id": "6e8b54f5",
   "metadata": {},
   "source": [
    "#5:\n",
    "\n",
    "Comprobar duplicados\n",
    "\n",
    "________________________________________________________________________________"
   ]
  },
  {
   "cell_type": "code",
   "execution_count": 18,
   "id": "a908d21f",
   "metadata": {},
   "outputs": [
    {
     "name": "stdout",
     "output_type": "stream",
     "text": [
      "0\n"
     ]
    }
   ],
   "source": [
    "print(df_asig.duplicated().sum())"
   ]
  },
  {
   "cell_type": "code",
   "execution_count": 19,
   "id": "c3370af5",
   "metadata": {},
   "outputs": [
    {
     "name": "stdout",
     "output_type": "stream",
     "text": [
      "0\n"
     ]
    }
   ],
   "source": [
    "print(df_est.duplicated().sum())"
   ]
  },
  {
   "cell_type": "code",
   "execution_count": 20,
   "id": "287b90eb",
   "metadata": {},
   "outputs": [
    {
     "name": "stdout",
     "output_type": "stream",
     "text": [
      "0\n"
     ]
    }
   ],
   "source": [
    "print(df_not.duplicated().sum())"
   ]
  },
  {
   "cell_type": "markdown",
   "id": "b1cbc52a",
   "metadata": {},
   "source": [
    "#6:\n",
    "\n",
    "Visualizado de datos inicial\n",
    "\n",
    "________________________________________________________________________________"
   ]
  },
  {
   "cell_type": "code",
   "execution_count": null,
   "id": "5466af0d",
   "metadata": {},
   "outputs": [
    {
     "data": {
      "image/png": "[encoded data removed]",
      "text/plain": [
       "<Figure size 1500x1500 with 2 Axes>"
      ]
     },
     "metadata": {},
     "output_type": "display_data"
    }
   ],
   "source": [
    "import seaborn as sns\n",
    "import matplotlib.pyplot as plt\n",
    "\n",
    "df_asig.hist(figsize=(15,15))\n",
    "plt.show()"
   ]
  },
  {
   "cell_type": "code",
   "execution_count": 36,
   "metadata": {},
   "outputs": [
    {
     "data": {
      "image/png": "[encoded data removed]",
      "text/plain": [
       "<Figure size 1500x1500 with 2 Axes>"
      ]
     },
     "metadata": {},
     "output_type": "display_data"
    }
   ],
   "source": [
    "import seaborn as sns\n",
    "import matplotlib.pyplot as plt\n",
    "\n",
    "df_est.hist(figsize=(15,15))\n",
    "plt.show()"
   ]
  },
  {
   "cell_type": "code",
   "execution_count": 23,
   "id": "930eedff",
   "metadata": {},
   "outputs": [
    {
     "data": {
      "image/png": "[encoded data removed]",
      "text/plain": [
       "<Figure size 1500x1500 with 4 Axes>"
      ]
     },
     "metadata": {},
     "output_type": "display_data"
    }
   ],
   "source": [
    "df_not.hist(figsize=(15,15))\n",
    "plt.show()"
   ]
  },
  {
   "cell_type": "markdown",
   "id": "a7a9140e",
   "metadata": {},
   "source": [
    "#7:\n",
    "\n",
    "Conclusiones\n",
    "\n",
    "________________________________________________________________________________"
   ]
  },
  {
   "cell_type": "markdown",
   "id": "fab541d7",
   "metadata": {},
   "source": [
    "- Asignaturas:\n",
    "\n",
    "    Datos atipicos en el numero de creditos de cada asignatura\n",
    "\n",
    "    \n",
    "- Estudiantes:\n",
    "\n",
    "    Datos atipicos en la edad de los alumnos\n",
    "    Valores sin sentido en la columna \"sexo\"\n",
    "\n",
    "\n",
    "- Notas:\n",
    "\n",
    "    Valores sin sentido en la columna convocatoria\n",
    "    Id_asinatura con valores atipicos (1-30)\n",
    "    Id_estudiantes con valores atipicos (1-100)"
   ]
  }
 ],
 "metadata": {
  "kernelspec": {
   "display_name": "base",
   "language": "python",
   "name": "python3"
  },
  "language_info": {
   "codemirror_mode": {
    "name": "ipython",
    "version": 3
   },
   "file_extension": ".py",
   "mimetype": "text/x-python",
   "name": "python",
   "nbconvert_exporter": "python",
   "pygments_lexer": "ipython3",
   "version": "3.12.3"
  }
 },
 "nbformat": 4,
 "nbformat_minor": 5
}
