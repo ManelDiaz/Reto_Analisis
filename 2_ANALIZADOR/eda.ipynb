{
 "cells": [
  {
   "cell_type": "markdown",
   "id": "48512940",
   "metadata": {},
   "source": [
    "#1:\n",
    "\n",
    "Mostrar las primeras 5 filas de los dataframes\n",
    "\n",
    "________________________________________________________________________________"
   ]
  },
  {
   "cell_type": "code",
   "execution_count": null,
   "id": "fd443bf7",
   "metadata": {},
   "outputs": [],
   "source": [
    "import pandas as pd \n",
    "\n",
    "df_asig = pd.read_csv('../1_GENERADOR/asignaturas.csv')\n",
    "df_est = pd.read_csv('../1_GENERADOR/estudiantes.csv')\n",
    "df_not = pd.read_csv('../1_GENERADOR/notas.csv')\n",
    "\n",
    "df_asig.head(5)"
   ]
  },
  {
   "cell_type": "code",
   "execution_count": null,
   "id": "bfa2e618",
   "metadata": {},
   "outputs": [],
   "source": [
    "df_est.head(5)"
   ]
  },
  {
   "cell_type": "code",
   "execution_count": null,
   "id": "e3de98d1",
   "metadata": {},
   "outputs": [],
   "source": [
    "df_not.head(5)"
   ]
  },
  {
   "cell_type": "markdown",
   "id": "8646bbdb",
   "metadata": {},
   "source": [
    "#2:\n",
    "\n",
    "Mostrar información general de los dataframes\n",
    "\n",
    "________________________________________________________________________________"
   ]
  },
  {
   "cell_type": "code",
   "execution_count": null,
   "id": "b84dff39",
   "metadata": {},
   "outputs": [],
   "source": [
    "df_asig.info()"
   ]
  },
  {
   "cell_type": "code",
   "execution_count": null,
   "id": "c9194c27",
   "metadata": {},
   "outputs": [],
   "source": [
    "df_est.info()"
   ]
  },
  {
   "cell_type": "code",
   "execution_count": null,
   "id": "8e3c6124",
   "metadata": {},
   "outputs": [],
   "source": [
    "df_not.info()"
   ]
  },
  {
   "cell_type": "markdown",
   "id": "3bdefe06",
   "metadata": {},
   "source": [
    "#3:\n",
    "\n",
    "Comprobar valores faltantes\n",
    "\n",
    "________________________________________________________________________________"
   ]
  },
  {
   "cell_type": "code",
   "execution_count": null,
   "id": "ca8a38d8",
   "metadata": {},
   "outputs": [],
   "source": [
    "print(df_asig.isnull().sum())"
   ]
  },
  {
   "cell_type": "code",
   "execution_count": null,
   "id": "dd0cc95d",
   "metadata": {},
   "outputs": [],
   "source": [
    "print(df_est.isnull().sum())"
   ]
  },
  {
   "cell_type": "code",
   "execution_count": null,
   "id": "f9619291",
   "metadata": {},
   "outputs": [],
   "source": [
    "print(df_not.isnull().sum())"
   ]
  },
  {
   "cell_type": "markdown",
   "id": "df44cc25",
   "metadata": {},
   "source": [
    "#4:\n",
    "\n",
    "Calcular estadisticas numéricas\n",
    "\n",
    "________________________________________________________________________________"
   ]
  },
  {
   "cell_type": "code",
   "execution_count": null,
   "id": "a7fc3f50",
   "metadata": {},
   "outputs": [],
   "source": [
    "print(df_asig.describe())"
   ]
  },
  {
   "cell_type": "code",
   "execution_count": null,
   "id": "7651cac6",
   "metadata": {},
   "outputs": [],
   "source": [
    "print(df_est.describe())"
   ]
  },
  {
   "cell_type": "code",
   "execution_count": null,
   "id": "4d6d44e8",
   "metadata": {},
   "outputs": [],
   "source": [
    "print(df_not.describe())"
   ]
  },
  {
   "cell_type": "markdown",
   "id": "6e8b54f5",
   "metadata": {},
   "source": [
    "#5:\n",
    "\n",
    "Comprobar duplicados\n",
    "\n",
    "________________________________________________________________________________"
   ]
  },
  {
   "cell_type": "code",
   "execution_count": null,
   "id": "a908d21f",
   "metadata": {},
   "outputs": [],
   "source": [
    "print(df_asig.duplicated().sum())"
   ]
  },
  {
   "cell_type": "code",
   "execution_count": null,
   "id": "c3370af5",
   "metadata": {},
   "outputs": [],
   "source": [
    "print(df_est.duplicated().sum())"
   ]
  },
  {
   "cell_type": "code",
   "execution_count": null,
   "id": "287b90eb",
   "metadata": {},
   "outputs": [],
   "source": [
    "print(df_not.duplicated().sum())"
   ]
  }
 ],
 "metadata": {
  "kernelspec": {
   "display_name": "venv",
   "language": "python",
   "name": "python3"
  },
  "language_info": {
   "codemirror_mode": {
    "name": "ipython",
    "version": 3
   },
   "file_extension": ".py",
   "mimetype": "text/x-python",
   "name": "python",
   "nbconvert_exporter": "python",
   "pygments_lexer": "ipython3",
   "version": "3.12.3"
  }
 },
 "nbformat": 4,
 "nbformat_minor": 5
}
