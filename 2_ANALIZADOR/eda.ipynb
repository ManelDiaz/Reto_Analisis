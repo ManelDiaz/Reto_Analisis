{
 "cells": [
  {
   "cell_type": "markdown",
   "id": "48512940",
   "metadata": {},
   "source": [
    "#1:\n",
    "\n",
    "Mostrar las primeras 5 filas de los dataframes\n",
    "\n",
    "________________________________________________________________________________"
   ]
  },
  {
   "cell_type": "code",
   "execution_count": 37,
   "id": "fd443bf7",
   "metadata": {},
   "outputs": [
    {
     "data": {
      "text/html": [
       "<div>\n",
       "<style scoped>\n",
       "    .dataframe tbody tr th:only-of-type {\n",
       "        vertical-align: middle;\n",
       "    }\n",
       "\n",
       "    .dataframe tbody tr th {\n",
       "        vertical-align: top;\n",
       "    }\n",
       "\n",
       "    .dataframe thead th {\n",
       "        text-align: right;\n",
       "    }\n",
       "</style>\n",
       "<table border=\"1\" class=\"dataframe\">\n",
       "  <thead>\n",
       "    <tr style=\"text-align: right;\">\n",
       "      <th></th>\n",
       "      <th>id_asignatura</th>\n",
       "      <th>nombre_asignatura</th>\n",
       "      <th>departamento</th>\n",
       "      <th>creditos</th>\n",
       "    </tr>\n",
       "  </thead>\n",
       "  <tbody>\n",
       "    <tr>\n",
       "      <th>0</th>\n",
       "      <td>1</td>\n",
       "      <td>Matemáticas</td>\n",
       "      <td>Ciencias</td>\n",
       "      <td>6</td>\n",
       "    </tr>\n",
       "    <tr>\n",
       "      <th>1</th>\n",
       "      <td>2</td>\n",
       "      <td>Física</td>\n",
       "      <td>Ciencias</td>\n",
       "      <td>5</td>\n",
       "    </tr>\n",
       "    <tr>\n",
       "      <th>2</th>\n",
       "      <td>3</td>\n",
       "      <td>Historia</td>\n",
       "      <td>Humanidades</td>\n",
       "      <td>4</td>\n",
       "    </tr>\n",
       "    <tr>\n",
       "      <th>3</th>\n",
       "      <td>4</td>\n",
       "      <td>Lengua Española</td>\n",
       "      <td>Humanidades</td>\n",
       "      <td>-1</td>\n",
       "    </tr>\n",
       "    <tr>\n",
       "      <th>4</th>\n",
       "      <td>5</td>\n",
       "      <td>Informática</td>\n",
       "      <td>NaN</td>\n",
       "      <td>100</td>\n",
       "    </tr>\n",
       "  </tbody>\n",
       "</table>\n",
       "</div>"
      ],
      "text/plain": [
       "   id_asignatura nombre_asignatura departamento  creditos\n",
       "0              1       Matemáticas     Ciencias         6\n",
       "1              2            Física     Ciencias         5\n",
       "2              3          Historia  Humanidades         4\n",
       "3              4   Lengua Española  Humanidades        -1\n",
       "4              5       Informática          NaN       100"
      ]
     },
     "execution_count": 37,
     "metadata": {},
     "output_type": "execute_result"
    }
   ],
   "source": [
    "import pandas as pd \n",
    "\n",
    "df_asig = pd.read_csv('../1_GENERADOR/asignaturas.csv')\n",
    "df_est = pd.read_csv('../1_GENERADOR/estudiantes.csv')\n",
    "df_not = pd.read_csv('../1_GENERADOR/notas.csv')\n",
    "\n",
    "df_asig.head(5)"
   ]
  },
  {
   "cell_type": "code",
   "execution_count": 32,
   "id": "bfa2e618",
   "metadata": {},
   "outputs": [
    {
     "data": {
      "text/html": [
       "<div>\n",
       "<style scoped>\n",
       "    .dataframe tbody tr th:only-of-type {\n",
       "        vertical-align: middle;\n",
       "    }\n",
       "\n",
       "    .dataframe tbody tr th {\n",
       "        vertical-align: top;\n",
       "    }\n",
       "\n",
       "    .dataframe thead th {\n",
       "        text-align: right;\n",
       "    }\n",
       "</style>\n",
       "<table border=\"1\" class=\"dataframe\">\n",
       "  <thead>\n",
       "    <tr style=\"text-align: right;\">\n",
       "      <th></th>\n",
       "      <th>id_estudiante</th>\n",
       "      <th>nombre</th>\n",
       "      <th>apellido</th>\n",
       "      <th>edad</th>\n",
       "      <th>sexo</th>\n",
       "      <th>ciudad</th>\n",
       "      <th>fecha_registro</th>\n",
       "    </tr>\n",
       "  </thead>\n",
       "  <tbody>\n",
       "    <tr>\n",
       "      <th>0</th>\n",
       "      <td>1</td>\n",
       "      <td>Paloma</td>\n",
       "      <td>NaN</td>\n",
       "      <td>25.0</td>\n",
       "      <td>M</td>\n",
       "      <td>Cáceres</td>\n",
       "      <td>2022-06-27</td>\n",
       "    </tr>\n",
       "    <tr>\n",
       "      <th>1</th>\n",
       "      <td>2</td>\n",
       "      <td>NaN</td>\n",
       "      <td>Tamarit</td>\n",
       "      <td>94.0</td>\n",
       "      <td>M</td>\n",
       "      <td>Ceuta</td>\n",
       "      <td>2024-08-04</td>\n",
       "    </tr>\n",
       "    <tr>\n",
       "      <th>2</th>\n",
       "      <td>3</td>\n",
       "      <td>Fulgencio</td>\n",
       "      <td>Calderón</td>\n",
       "      <td>18.0</td>\n",
       "      <td>M</td>\n",
       "      <td>Tarragona</td>\n",
       "      <td>2022-10-07</td>\n",
       "    </tr>\n",
       "    <tr>\n",
       "      <th>3</th>\n",
       "      <td>4</td>\n",
       "      <td>Felicidad</td>\n",
       "      <td>Manrique</td>\n",
       "      <td>20.0</td>\n",
       "      <td>F</td>\n",
       "      <td>Asturias</td>\n",
       "      <td>2022-11-13</td>\n",
       "    </tr>\n",
       "    <tr>\n",
       "      <th>4</th>\n",
       "      <td>5</td>\n",
       "      <td>Roberto</td>\n",
       "      <td>Royo</td>\n",
       "      <td>30.0</td>\n",
       "      <td>1</td>\n",
       "      <td>Salamanca</td>\n",
       "      <td>2024-07-03</td>\n",
       "    </tr>\n",
       "  </tbody>\n",
       "</table>\n",
       "</div>"
      ],
      "text/plain": [
       "   id_estudiante     nombre  apellido  edad sexo     ciudad fecha_registro\n",
       "0              1     Paloma       NaN  25.0    M    Cáceres     2022-06-27\n",
       "1              2        NaN   Tamarit  94.0    M      Ceuta     2024-08-04\n",
       "2              3  Fulgencio  Calderón  18.0    M  Tarragona     2022-10-07\n",
       "3              4  Felicidad  Manrique  20.0    F   Asturias     2022-11-13\n",
       "4              5    Roberto      Royo  30.0    1  Salamanca     2024-07-03"
      ]
     },
     "execution_count": 32,
     "metadata": {},
     "output_type": "execute_result"
    }
   ],
   "source": [
    "df_est.head(5)"
   ]
  },
  {
   "cell_type": "code",
   "execution_count": 38,
   "id": "e3de98d1",
   "metadata": {},
   "outputs": [
    {
     "data": {
      "text/html": [
       "<div>\n",
       "<style scoped>\n",
       "    .dataframe tbody tr th:only-of-type {\n",
       "        vertical-align: middle;\n",
       "    }\n",
       "\n",
       "    .dataframe tbody tr th {\n",
       "        vertical-align: top;\n",
       "    }\n",
       "\n",
       "    .dataframe thead th {\n",
       "        text-align: right;\n",
       "    }\n",
       "</style>\n",
       "<table border=\"1\" class=\"dataframe\">\n",
       "  <thead>\n",
       "    <tr style=\"text-align: right;\">\n",
       "      <th></th>\n",
       "      <th>id_estudiante</th>\n",
       "      <th>id_asignatura</th>\n",
       "      <th>nota</th>\n",
       "      <th>convocatoria</th>\n",
       "      <th>fecha_examen</th>\n",
       "    </tr>\n",
       "  </thead>\n",
       "  <tbody>\n",
       "    <tr>\n",
       "      <th>0</th>\n",
       "      <td>1.0</td>\n",
       "      <td>1.0</td>\n",
       "      <td>8.85</td>\n",
       "      <td>Extraordinaria</td>\n",
       "      <td>2023-12-20</td>\n",
       "    </tr>\n",
       "    <tr>\n",
       "      <th>1</th>\n",
       "      <td>1.0</td>\n",
       "      <td>4.0</td>\n",
       "      <td>0.00</td>\n",
       "      <td>Extraordinaria</td>\n",
       "      <td>2025-03-31</td>\n",
       "    </tr>\n",
       "    <tr>\n",
       "      <th>2</th>\n",
       "      <td>1.0</td>\n",
       "      <td>5.0</td>\n",
       "      <td>6.18</td>\n",
       "      <td>Extraordinaria</td>\n",
       "      <td>2024-03-05</td>\n",
       "    </tr>\n",
       "    <tr>\n",
       "      <th>3</th>\n",
       "      <td>2.0</td>\n",
       "      <td>3.0</td>\n",
       "      <td>2.66</td>\n",
       "      <td>Extraordinaria</td>\n",
       "      <td>2024-11-19</td>\n",
       "    </tr>\n",
       "    <tr>\n",
       "      <th>4</th>\n",
       "      <td>2.0</td>\n",
       "      <td>2.0</td>\n",
       "      <td>10.00</td>\n",
       "      <td>Ordinaria</td>\n",
       "      <td>2023-07-04</td>\n",
       "    </tr>\n",
       "  </tbody>\n",
       "</table>\n",
       "</div>"
      ],
      "text/plain": [
       "   id_estudiante  id_asignatura   nota    convocatoria fecha_examen\n",
       "0            1.0            1.0   8.85  Extraordinaria   2023-12-20\n",
       "1            1.0            4.0   0.00  Extraordinaria   2025-03-31\n",
       "2            1.0            5.0   6.18  Extraordinaria   2024-03-05\n",
       "3            2.0            3.0   2.66  Extraordinaria   2024-11-19\n",
       "4            2.0            2.0  10.00       Ordinaria   2023-07-04"
      ]
     },
     "execution_count": 38,
     "metadata": {},
     "output_type": "execute_result"
    }
   ],
   "source": [
    "df_not.head(5)"
   ]
  },
  {
   "cell_type": "markdown",
   "id": "8646bbdb",
   "metadata": {},
   "source": [
    "#2:\n",
    "\n",
    "Mostrar información general de los dataframes\n",
    "\n",
    "________________________________________________________________________________"
   ]
  },
  {
   "cell_type": "code",
   "execution_count": 19,
   "id": "b84dff39",
   "metadata": {},
   "outputs": [
    {
     "name": "stdout",
     "output_type": "stream",
     "text": [
      "<class 'pandas.core.frame.DataFrame'>\n",
      "RangeIndex: 10 entries, 0 to 9\n",
      "Data columns (total 4 columns):\n",
      " #   Column             Non-Null Count  Dtype \n",
      "---  ------             --------------  ----- \n",
      " 0   id_asignatura      10 non-null     int64 \n",
      " 1   nombre_asignatura  9 non-null      object\n",
      " 2   departamento       9 non-null      object\n",
      " 3   creditos           10 non-null     int64 \n",
      "dtypes: int64(2), object(2)\n",
      "memory usage: 452.0+ bytes\n"
     ]
    }
   ],
   "source": [
    "df_asig.info()"
   ]
  },
  {
   "cell_type": "code",
   "execution_count": 20,
   "id": "c9194c27",
   "metadata": {},
   "outputs": [
    {
     "name": "stdout",
     "output_type": "stream",
     "text": [
      "<class 'pandas.core.frame.DataFrame'>\n",
      "RangeIndex: 1000 entries, 0 to 999\n",
      "Data columns (total 7 columns):\n",
      " #   Column          Non-Null Count  Dtype  \n",
      "---  ------          --------------  -----  \n",
      " 0   id_estudiante   1000 non-null   int64  \n",
      " 1   nombre          896 non-null    object \n",
      " 2   apellido        892 non-null    object \n",
      " 3   edad            961 non-null    float64\n",
      " 4   sexo            955 non-null    object \n",
      " 5   ciudad          903 non-null    object \n",
      " 6   fecha_registro  952 non-null    object \n",
      "dtypes: float64(1), int64(1), object(5)\n",
      "memory usage: 54.8+ KB\n"
     ]
    }
   ],
   "source": [
    "df_est.info()"
   ]
  },
  {
   "cell_type": "code",
   "execution_count": 21,
   "id": "8e3c6124",
   "metadata": {},
   "outputs": [
    {
     "name": "stdout",
     "output_type": "stream",
     "text": [
      "<class 'pandas.core.frame.DataFrame'>\n",
      "RangeIndex: 3000 entries, 0 to 2999\n",
      "Data columns (total 5 columns):\n",
      " #   Column         Non-Null Count  Dtype  \n",
      "---  ------         --------------  -----  \n",
      " 0   id_estudiante  2890 non-null   float64\n",
      " 1   id_asignatura  2913 non-null   float64\n",
      " 2   nota           2925 non-null   float64\n",
      " 3   convocatoria   2855 non-null   object \n",
      " 4   fecha_examen   2860 non-null   object \n",
      "dtypes: float64(3), object(2)\n",
      "memory usage: 117.3+ KB\n"
     ]
    }
   ],
   "source": [
    "df_not.info()"
   ]
  },
  {
   "cell_type": "markdown",
   "id": "3bdefe06",
   "metadata": {},
   "source": [
    "#3:\n",
    "\n",
    "Comprobar valores faltantes\n",
    "\n",
    "________________________________________________________________________________"
   ]
  },
  {
   "cell_type": "code",
   "execution_count": 22,
   "id": "ca8a38d8",
   "metadata": {},
   "outputs": [
    {
     "name": "stdout",
     "output_type": "stream",
     "text": [
      "id_asignatura        0\n",
      "nombre_asignatura    1\n",
      "departamento         1\n",
      "creditos             0\n",
      "dtype: int64\n"
     ]
    }
   ],
   "source": [
    "print(df_asig.isnull().sum())"
   ]
  },
  {
   "cell_type": "code",
   "execution_count": 23,
   "id": "dd0cc95d",
   "metadata": {},
   "outputs": [
    {
     "name": "stdout",
     "output_type": "stream",
     "text": [
      "id_estudiante       0\n",
      "nombre            104\n",
      "apellido          108\n",
      "edad               39\n",
      "sexo               45\n",
      "ciudad             97\n",
      "fecha_registro     48\n",
      "dtype: int64\n"
     ]
    }
   ],
   "source": [
    "print(df_est.isnull().sum())"
   ]
  },
  {
   "cell_type": "code",
   "execution_count": 24,
   "id": "f9619291",
   "metadata": {},
   "outputs": [
    {
     "name": "stdout",
     "output_type": "stream",
     "text": [
      "id_estudiante    110\n",
      "id_asignatura     87\n",
      "nota              75\n",
      "convocatoria     145\n",
      "fecha_examen     140\n",
      "dtype: int64\n"
     ]
    }
   ],
   "source": [
    "print(df_not.isnull().sum())"
   ]
  },
  {
   "cell_type": "markdown",
   "id": "df44cc25",
   "metadata": {},
   "source": [
    "#4:\n",
    "\n",
    "Calcular estadisticas numéricas\n",
    "\n",
    "________________________________________________________________________________"
   ]
  },
  {
   "cell_type": "code",
   "execution_count": 25,
   "id": "a7fc3f50",
   "metadata": {},
   "outputs": [
    {
     "name": "stdout",
     "output_type": "stream",
     "text": [
      "       id_asignatura    creditos\n",
      "count       10.00000   10.000000\n",
      "mean         5.50000   13.700000\n",
      "std          3.02765   30.382926\n",
      "min          1.00000   -1.000000\n",
      "25%          3.25000    4.000000\n",
      "50%          5.50000    5.000000\n",
      "75%          7.75000    5.000000\n",
      "max         10.00000  100.000000\n"
     ]
    }
   ],
   "source": [
    "print(df_asig.describe())"
   ]
  },
  {
   "cell_type": "code",
   "execution_count": 26,
   "id": "7651cac6",
   "metadata": {},
   "outputs": [
    {
     "name": "stdout",
     "output_type": "stream",
     "text": [
      "       id_estudiante        edad\n",
      "count    1000.000000  961.000000\n",
      "mean      500.500000   30.381894\n",
      "std       288.819436   15.615992\n",
      "min         1.000000   -5.000000\n",
      "25%       250.750000   22.000000\n",
      "50%       500.500000   29.000000\n",
      "75%       750.250000   35.000000\n",
      "max      1000.000000  117.000000\n"
     ]
    }
   ],
   "source": [
    "print(df_est.describe())"
   ]
  },
  {
   "cell_type": "code",
   "execution_count": 27,
   "id": "4d6d44e8",
   "metadata": {},
   "outputs": [
    {
     "name": "stdout",
     "output_type": "stream",
     "text": [
      "       id_estudiante  id_asignatura         nota\n",
      "count    2890.000000    2913.000000  2925.000000\n",
      "mean      796.675087      39.608308     6.578021\n",
      "std      1732.152414     181.885623     1.891631\n",
      "min      -100.000000      -5.000000     0.000000\n",
      "25%       233.250000       3.000000     5.530000\n",
      "50%       499.000000       6.000000     6.610000\n",
      "75%       770.000000       8.000000     7.690000\n",
      "max      9999.000000     999.000000    10.000000\n"
     ]
    }
   ],
   "source": [
    "print(df_not.describe())"
   ]
  },
  {
   "cell_type": "markdown",
   "id": "6e8b54f5",
   "metadata": {},
   "source": [
    "#5:\n",
    "\n",
    "Comprobar duplicados\n",
    "\n",
    "________________________________________________________________________________"
   ]
  },
  {
   "cell_type": "code",
   "execution_count": 28,
   "id": "a908d21f",
   "metadata": {},
   "outputs": [
    {
     "name": "stdout",
     "output_type": "stream",
     "text": [
      "0\n"
     ]
    }
   ],
   "source": [
    "print(df_asig.duplicated().sum())"
   ]
  },
  {
   "cell_type": "code",
   "execution_count": 29,
   "id": "c3370af5",
   "metadata": {},
   "outputs": [
    {
     "name": "stdout",
     "output_type": "stream",
     "text": [
      "0\n"
     ]
    }
   ],
   "source": [
    "print(df_est.duplicated().sum())"
   ]
  },
  {
   "cell_type": "code",
   "execution_count": 30,
   "id": "287b90eb",
   "metadata": {},
   "outputs": [
    {
     "name": "stdout",
     "output_type": "stream",
     "text": [
      "0\n"
     ]
    }
   ],
   "source": [
    "print(df_not.duplicated().sum())"
   ]
  }
 ],
 "metadata": {
  "kernelspec": {
   "display_name": "venv",
   "language": "python",
   "name": "python3"
  },
  "language_info": {
   "codemirror_mode": {
    "name": "ipython",
    "version": 3
   },
   "file_extension": ".py",
   "mimetype": "text/x-python",
   "name": "python",
   "nbconvert_exporter": "python",
   "pygments_lexer": "ipython3",
   "version": "3.12.3"
  }
 },
 "nbformat": 4,
 "nbformat_minor": 5
}
