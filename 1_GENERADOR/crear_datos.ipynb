{
 "cells": [
  {
   "cell_type": "markdown",
   "id": "dea99414",
   "metadata": {},
   "source": [
    "# Generación de Datos Sintéticos\n",
    "Este notebook genera datos sintéticos para estudiantes, asignaturas y notas, y los guarda en archivos CSV."
   ]
  },
  {
   "cell_type": "markdown",
   "id": "5471b58c",
   "metadata": {},
   "source": [
    "## Generación del archivo `estudiantes.csv`\n",
    "Este archivo contiene información sobre los estudiantes, incluyendo su nombre, apellido, edad, sexo, ciudad y fecha de registro."
   ]
  },
  {
   "cell_type": "code",
   "execution_count": 41,
   "id": "e392dba9",
   "metadata": {},
   "outputs": [
    {
     "name": "stdout",
     "output_type": "stream",
     "text": [
      "Deleted existing estudiantes.csv\n",
      "Deleted existing asignaturas.csv\n",
      "Deleted existing notas.csv\n"
     ]
    },
    {
     "name": "stderr",
     "output_type": "stream",
     "text": [
      "C:\\Users\\Deusto\\AppData\\Local\\Temp\\ipykernel_8284\\2890562609.py:40: FutureWarning: Setting an item of incompatible dtype is deprecated and will raise an error in a future version of pandas. Value 'null' has dtype incompatible with float64, please explicitly cast to a compatible dtype first.\n",
      "  df_estudiantes.fillna('null', inplace=True)\n"
     ]
    }
   ],
   "source": [
    "import pandas as pd\n",
    "import numpy as np\n",
    "from faker import Faker\n",
    "import random\n",
    "import os\n",
    "\n",
    "csv_files = ['estudiantes.csv', 'asignaturas.csv', 'notas.csv']\n",
    "for file in csv_files:\n",
    "    if os.path.exists(file):\n",
    "        os.remove(file)\n",
    "        print(f\"Deleted existing {file}\")\n",
    "\n",
    "fake = Faker('es_ES')\n",
    "np.random.seed(42)\n",
    "random.seed(42)\n",
    "\n",
    "def should_introduce_error(error_probability=0.1):\n",
    "    \"\"\"Return True with the specified probability.\"\"\"\n",
    "    return random.random() < error_probability\n",
    "\n",
    "num_estudiantes = 1000\n",
    "\n",
    "estudiantes = []\n",
    "for i in range(1, num_estudiantes + 1):\n",
    "    estudiante = {\n",
    "        'id_estudiante': i,\n",
    "        'nombre': fake.first_name() if not should_introduce_error() else None,\n",
    "        'apellido': fake.last_name() if not should_introduce_error() else None,\n",
    "        'edad': random.randint(18, 40) if not should_introduce_error() else \n",
    "               random.choice([None, random.randint(-5, 10), random.randint(80, 120)]),\n",
    "        'sexo': random.choice(['M', 'F']) if not should_introduce_error() else \n",
    "               random.choice([None, 'X', '1', '']),\n",
    "        'ciudad': fake.city() if not should_introduce_error() else None,\n",
    "        'fecha_registro': fake.date_between(start_date='-3y', end_date='today') if not should_introduce_error() else \n",
    "                         random.choice([None, fake.date_between(start_date='-30y', end_date='-20y')])\n",
    "    }\n",
    "    estudiantes.append(estudiante)\n",
    "\n",
    "df_estudiantes = pd.DataFrame(estudiantes)\n",
    "df_estudiantes.fillna('null', inplace=True)\n",
    "df_estudiantes.to_csv('estudiantes.csv', index=False)"
   ]
  },
  {
   "cell_type": "markdown",
   "id": "1ec20f56",
   "metadata": {},
   "source": [
    "## Generación del archivo `asignaturas.csv`\n",
    "Este archivo contiene información sobre las asignaturas, incluyendo su nombre, departamento y número de créditos."
   ]
  },
  {
   "cell_type": "code",
   "execution_count": 42,
   "id": "e11bc961",
   "metadata": {},
   "outputs": [],
   "source": [
    "asignaturas = [\n",
    "    {'id_asignatura': 1, 'nombre_asignatura': 'Matemáticas', 'departamento': 'Ciencias', 'creditos': 6},\n",
    "    {'id_asignatura': 2, 'nombre_asignatura': 'Física', 'departamento': 'Ciencias', 'creditos': 5},\n",
    "    {'id_asignatura': 3, 'nombre_asignatura': 'Historia', 'departamento': 'Humanidades', 'creditos': 4},\n",
    "    {'id_asignatura': 4, 'nombre_asignatura': 'Lengua Española', 'departamento': 'Humanidades', 'creditos': 5},\n",
    "    {'id_asignatura': 5, 'nombre_asignatura': 'Informática', 'departamento': 'Ingeniería', 'creditos': 6},\n",
    "    {'id_asignatura': 6, 'nombre_asignatura': 'Biología', 'departamento': 'Ciencias', 'creditos': 5},\n",
    "    {'id_asignatura': 7, 'nombre_asignatura': 'Química', 'departamento': 'Ciencias', 'creditos': 5},\n",
    "    {'id_asignatura': 8, 'nombre_asignatura': 'Economía', 'departamento': 'Ciencias Sociales', 'creditos': 4},\n",
    "    {'id_asignatura': 9, 'nombre_asignatura': 'Filosofía', 'departamento': 'Humanidades', 'creditos': 4},\n",
    "    {'id_asignatura': 10, 'nombre_asignatura': 'Inglés', 'departamento': 'Idiomas', 'creditos': 5}\n",
    "]\n",
    "\n",
    "# Adding errors to asignaturas data\n",
    "for asignatura in asignaturas:\n",
    "    for key in list(asignatura.keys()):\n",
    "        if key != 'id_asignatura' and should_introduce_error():  # Keep id_asignatura intact\n",
    "            if key == 'creditos':\n",
    "                asignatura[key] = random.choice([None, -1, 0, 100])\n",
    "            else:\n",
    "                asignatura[key] = None\n",
    "\n",
    "df_asignaturas = pd.DataFrame(asignaturas)\n",
    "df_asignaturas.fillna('null', inplace=True)\n",
    "df_asignaturas.to_csv('asignaturas.csv', index=False)"
   ]
  },
  {
   "cell_type": "markdown",
   "id": "7e70b41d",
   "metadata": {},
   "source": [
    "## Generación del archivo `notas.csv`\n",
    "Este archivo contiene información sobre las notas de los estudiantes en diferentes asignaturas, incluyendo la convocatoria y la fecha del examen."
   ]
  },
  {
   "cell_type": "code",
   "execution_count": 43,
   "id": "50128bc5",
   "metadata": {},
   "outputs": [],
   "source": [
    "notas = []\n",
    "convocatorias = ['Ordinaria', 'Extraordinaria']\n",
    "\n",
    "for estudiante in df_estudiantes['id_estudiante']:\n",
    "    asignaturas_sample = random.sample(df_asignaturas['id_asignatura'].tolist(), k=3)\n",
    "    for asignatura in asignaturas_sample:\n",
    "        nota_record = {\n",
    "            'id_estudiante': estudiante if not should_introduce_error() else random.choice([None, -100, 9999]),\n",
    "            'id_asignatura': asignatura if not should_introduce_error() else random.choice([None, -5, 999]),\n",
    "            'nota': round(np.random.normal(loc=6.5, scale=1.5), 2) if not should_introduce_error() else \n",
    "                   random.choice([None, -20, 15, 999]),\n",
    "            'convocatoria': random.choice(convocatorias) if not should_introduce_error() else \n",
    "                           random.choice([None, '', 'Desconocida', 123]),\n",
    "            'fecha_examen': fake.date_between(start_date='-2y', end_date='today') if not should_introduce_error() else\n",
    "                           random.choice([None, fake.date_between(start_date='-30y', end_date='-20y')])\n",
    "        }\n",
    "        notas.append(nota_record)\n",
    "\n",
    "df_notas = pd.DataFrame(notas)\n",
    "# Only clip valid notes (not None)\n",
    "df_notas['nota'] = df_notas['nota'].apply(lambda x: max(0, min(10, x)) if pd.notna(x) and isinstance(x, (int, float)) else x)\n",
    "df_notas.to_csv('notas.csv', index=False)"
   ]
  }
 ],
 "metadata": {
  "kernelspec": {
   "display_name": "base",
   "language": "python",
   "name": "python3"
  },
  "language_info": {
   "codemirror_mode": {
    "name": "ipython",
    "version": 3
   },
   "file_extension": ".py",
   "mimetype": "text/x-python",
   "name": "python",
   "nbconvert_exporter": "python",
   "pygments_lexer": "ipython3",
   "version": "3.12.3"
  }
 },
 "nbformat": 4,
 "nbformat_minor": 5
}
